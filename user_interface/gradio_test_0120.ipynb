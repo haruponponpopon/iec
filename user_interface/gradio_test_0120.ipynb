{
 "cells": [
  {
   "cell_type": "code",
   "execution_count": 2,
   "id": "76532f19",
   "metadata": {},
   "outputs": [
    {
     "name": "stderr",
     "output_type": "stream",
     "text": [
      "/home/kobayashi/anaconda3/envs/pytorch/lib/python3.9/site-packages/gradio/utils.py:805: UserWarning: Expected 2 arguments for function <function checkbox_change at 0x7fa1c84b5c10>, received 9.\n",
      "  warnings.warn(\n",
      "/home/kobayashi/anaconda3/envs/pytorch/lib/python3.9/site-packages/gradio/utils.py:813: UserWarning: Expected maximum 2 arguments for function <function checkbox_change at 0x7fa1c84b5c10>, received 9.\n",
      "  warnings.warn(\n"
     ]
    },
    {
     "name": "stdout",
     "output_type": "stream",
     "text": [
      "Running on local URL:  http://127.0.0.1:7863\n",
      "Running on public URL: https://108c5c5e-dea3-4acd.gradio.live\n",
      "\n",
      "This share link expires in 72 hours. For free permanent hosting and GPU upgrades (NEW!), check out Spaces: https://huggingface.co/spaces\n"
     ]
    },
    {
     "data": {
      "text/html": [
       "<div><iframe src=\"https://108c5c5e-dea3-4acd.gradio.live\" width=\"100%\" height=\"500\" allow=\"autoplay; camera; microphone; clipboard-read; clipboard-write;\" frameborder=\"0\" allowfullscreen></iframe></div>"
      ],
      "text/plain": [
       "<IPython.core.display.HTML object>"
      ]
     },
     "metadata": {},
     "output_type": "display_data"
    }
   ],
   "source": [
    "import gradio as gr\n",
    "from PIL import Image\n",
    "#指定されたparameterの枚数のimageを縦と横に並べて返すコード\n",
    "population = 9\n",
    "show_image_x = 3\n",
    "show_image_y = 3\n",
    "epoch=0\n",
    "def initialize_image(input_prompt):\n",
    "    images = []\n",
    "    for i in range(population):\n",
    "        image = Image.open(\"sample_image/epoch0/\"+str(i)+\".png\")\n",
    "        images.append(image)\n",
    "    return images\n",
    "def generate_image(*input_prompt):\n",
    "    global epoch\n",
    "    epoch+=1\n",
    "    images = []\n",
    "    for i in range(population):\n",
    "        image = Image.open(\"sample_image/epoch\"+str(epoch)+\"/\"+str(i)+\".png\")\n",
    "        images.append(image)\n",
    "    return images\n",
    "def checkbox_change(checkbox,checkbox1):\n",
    "    ans=\"nothing\"\n",
    "#     for c in checkbox:\n",
    "    if checkbox:\n",
    "        ans=checkbox\n",
    "    if checkbox1:\n",
    "        ans+=checkbox1\n",
    "    return ans\n",
    "#     with open('./log.txt', 'a') as f:\n",
    "#         print(id)\n",
    "\n",
    "with gr.Blocks() as demo:\n",
    "    with gr.Tab(\"Practice 1\"):\n",
    "        output = []\n",
    "        population_check = []\n",
    "        with gr.Row():\n",
    "            with gr.Column():\n",
    "                gr.Markdown(\"この中から良いと思った画像を好きなだけ選択してください\")\n",
    "                input_prompt = gr.Textbox(label=\"文章を入力してください\")\n",
    "                gr.Markdown(\"世代数1\")\n",
    "                first_generate_btn = gr.Button(\"初期化\")\n",
    "                continue_btn = gr.Button(\"続ける\")\n",
    "                gr.Dropdown(list(range(population)),label=\"終わるを押す前に、一番好きな画像を選んでください\"),\n",
    "                end_btn = gr.Button(\"終わる\")\n",
    "            for i in range(show_image_x):    \n",
    "                with gr.Column():\n",
    "                    for j in range(show_image_y):\n",
    "                        with gr.Row():\n",
    "                            output.append(gr.Image(label=i*show_image_x+j))\n",
    "                        population_check.append(gr.Radio([\"👍\",\"👎\"],value=\"👎\",show_label=False))\n",
    "        first_generate_btn.click(fn=initialize_image, inputs=input_prompt, outputs=output)\n",
    "        continue_btn.click(fn=generate_image, inputs=population_check, outputs=output)\n",
    "        end_btn.click(fn=checkbox_change,inputs=population_check,outputs=input_prompt)\n",
    "    with gr.Tab(\"Practice 2\"):\n",
    "        end_btn = gr.Button(\"終わる\")\n",
    "    \n",
    "if __name__ == \"__main__\":\n",
    "    demo.launch(share=True)"
   ]
  },
  {
   "cell_type": "code",
   "execution_count": 9,
   "id": "9b8b128b",
   "metadata": {},
   "outputs": [
    {
     "name": "stdout",
     "output_type": "stream",
     "text": [
      "Running on local URL:  http://127.0.0.1:7892\n",
      "\n",
      "To create a public link, set `share=True` in `launch()`.\n"
     ]
    },
    {
     "data": {
      "text/html": [
       "<div><iframe src=\"http://127.0.0.1:7892/\" width=\"100%\" height=\"500\" allow=\"autoplay; camera; microphone; clipboard-read; clipboard-write;\" frameborder=\"0\" allowfullscreen></iframe></div>"
      ],
      "text/plain": [
       "<IPython.core.display.HTML object>"
      ]
     },
     "metadata": {},
     "output_type": "display_data"
    },
    {
     "data": {
      "text/plain": []
     },
     "execution_count": 9,
     "metadata": {},
     "output_type": "execute_result"
    },
    {
     "name": "stderr",
     "output_type": "stream",
     "text": [
      "Traceback (most recent call last):\n",
      "  File \"/home/kobayashi/anaconda3/envs/pytorch/lib/python3.9/site-packages/gradio/routes.py\", line 337, in run_predict\n",
      "    output = await app.get_blocks().process_api(\n",
      "  File \"/home/kobayashi/anaconda3/envs/pytorch/lib/python3.9/site-packages/gradio/blocks.py\", line 1015, in process_api\n",
      "    result = await self.call_function(\n",
      "  File \"/home/kobayashi/anaconda3/envs/pytorch/lib/python3.9/site-packages/gradio/blocks.py\", line 833, in call_function\n",
      "    prediction = await anyio.to_thread.run_sync(\n",
      "  File \"/home/kobayashi/anaconda3/envs/pytorch/lib/python3.9/site-packages/anyio/to_thread.py\", line 31, in run_sync\n",
      "    return await get_asynclib().run_sync_in_worker_thread(\n",
      "  File \"/home/kobayashi/anaconda3/envs/pytorch/lib/python3.9/site-packages/anyio/_backends/_asyncio.py\", line 937, in run_sync_in_worker_thread\n",
      "    return await future\n",
      "  File \"/home/kobayashi/anaconda3/envs/pytorch/lib/python3.9/site-packages/anyio/_backends/_asyncio.py\", line 867, in run\n",
      "    result = context.run(func, *args)\n",
      "  File \"/tmp/ipykernel_169200/1318545998.py\", line 8, in Recommend_new\n",
      "    return x + \": Highest Cosine Similarity\"\n",
      "TypeError: can only concatenate list (not \"str\") to list\n",
      "Traceback (most recent call last):\n",
      "  File \"/home/kobayashi/anaconda3/envs/pytorch/lib/python3.9/site-packages/gradio/routes.py\", line 337, in run_predict\n",
      "    output = await app.get_blocks().process_api(\n",
      "  File \"/home/kobayashi/anaconda3/envs/pytorch/lib/python3.9/site-packages/gradio/blocks.py\", line 1015, in process_api\n",
      "    result = await self.call_function(\n",
      "  File \"/home/kobayashi/anaconda3/envs/pytorch/lib/python3.9/site-packages/gradio/blocks.py\", line 833, in call_function\n",
      "    prediction = await anyio.to_thread.run_sync(\n",
      "  File \"/home/kobayashi/anaconda3/envs/pytorch/lib/python3.9/site-packages/anyio/to_thread.py\", line 31, in run_sync\n",
      "    return await get_asynclib().run_sync_in_worker_thread(\n",
      "  File \"/home/kobayashi/anaconda3/envs/pytorch/lib/python3.9/site-packages/anyio/_backends/_asyncio.py\", line 937, in run_sync_in_worker_thread\n",
      "    return await future\n",
      "  File \"/home/kobayashi/anaconda3/envs/pytorch/lib/python3.9/site-packages/anyio/_backends/_asyncio.py\", line 867, in run\n",
      "    result = context.run(func, *args)\n",
      "  File \"/tmp/ipykernel_169200/1318545998.py\", line 8, in Recommend_new\n",
      "    return x + \": Highest Cosine Similarity\"\n",
      "TypeError: can only concatenate list (not \"str\") to list\n",
      "Traceback (most recent call last):\n",
      "  File \"/home/kobayashi/anaconda3/envs/pytorch/lib/python3.9/site-packages/gradio/routes.py\", line 337, in run_predict\n",
      "    output = await app.get_blocks().process_api(\n",
      "  File \"/home/kobayashi/anaconda3/envs/pytorch/lib/python3.9/site-packages/gradio/blocks.py\", line 1015, in process_api\n",
      "    result = await self.call_function(\n",
      "  File \"/home/kobayashi/anaconda3/envs/pytorch/lib/python3.9/site-packages/gradio/blocks.py\", line 833, in call_function\n",
      "    prediction = await anyio.to_thread.run_sync(\n",
      "  File \"/home/kobayashi/anaconda3/envs/pytorch/lib/python3.9/site-packages/anyio/to_thread.py\", line 31, in run_sync\n",
      "    return await get_asynclib().run_sync_in_worker_thread(\n",
      "  File \"/home/kobayashi/anaconda3/envs/pytorch/lib/python3.9/site-packages/anyio/_backends/_asyncio.py\", line 937, in run_sync_in_worker_thread\n",
      "    return await future\n",
      "  File \"/home/kobayashi/anaconda3/envs/pytorch/lib/python3.9/site-packages/anyio/_backends/_asyncio.py\", line 867, in run\n",
      "    result = context.run(func, *args)\n",
      "  File \"/tmp/ipykernel_169200/1318545998.py\", line 8, in Recommend_new\n",
      "    return x + \": Highest Cosine Similarity\"\n",
      "TypeError: can only concatenate list (not \"str\") to list\n"
     ]
    }
   ],
   "source": [
    "def closest_match(x):\n",
    "    return x + \": The Definitive Edition\"\n",
    "\n",
    "def Dropdown_list(x):\n",
    "    return [x, x + \" Remastered\", x + \": The Remake\", x + \": Game of the Year Edition\", x + \" Steelbook Edition\"]\n",
    "\n",
    "def Recommend_new(x):\n",
    "  return x + \": Highest Cosine Similarity\"\n",
    "\n",
    "demo = gr.Blocks()\n",
    "\n",
    "with demo:\n",
    "    text_input = gr.Textbox(label=\"Search bar\")\n",
    "    b1 = gr.Button(\"Match Closest Title\")\n",
    "\n",
    "    text_options = gr.Dropdown(['Placeholder A', 'Placeholder B', 'Placeholder C'], label=\"Top 5 options\")\n",
    "    b2 = gr.Button(\"Provide Additional options\")\n",
    "    \n",
    "    new_title = gr.Textbox(label=\"Here you go!\")\n",
    "    b3 = gr.Button(\"Recommend a new title\")\n",
    "\n",
    "    b1.click(closest_match, inputs=text_input, outputs=text_input)\n",
    "    b2.click(Dropdown_list, inputs=text_input, outputs=text_options)\n",
    "    b3.click(Recommend_new, inputs=text_options, outputs=new_title)\n",
    "    # text_options.update(interactive=True)\n",
    "\n",
    "\n",
    "demo.launch()"
   ]
  },
  {
   "cell_type": "code",
   "execution_count": null,
   "id": "5b352cf1",
   "metadata": {},
   "outputs": [],
   "source": []
  }
 ],
 "metadata": {
  "kernelspec": {
   "display_name": "Python 3 (ipykernel)",
   "language": "python",
   "name": "python3"
  },
  "language_info": {
   "codemirror_mode": {
    "name": "ipython",
    "version": 3
   },
   "file_extension": ".py",
   "mimetype": "text/x-python",
   "name": "python",
   "nbconvert_exporter": "python",
   "pygments_lexer": "ipython3",
   "version": "3.9.13"
  }
 },
 "nbformat": 4,
 "nbformat_minor": 5
}
