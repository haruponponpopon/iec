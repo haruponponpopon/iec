{
 "cells": [
  {
   "cell_type": "code",
   "execution_count": 1,
   "id": "4845e400",
   "metadata": {},
   "outputs": [
    {
     "name": "stdout",
     "output_type": "stream",
     "text": [
      "1\n"
     ]
    }
   ],
   "source": [
    "a = [1,2,3]\n",
    "b = []\n",
    "if a:\n",
    "    print(1)\n",
    "if b:\n",
    "    print(2)"
   ]
  },
  {
   "cell_type": "code",
   "execution_count": 2,
   "id": "c9e5d4ec",
   "metadata": {},
   "outputs": [
    {
     "name": "stdout",
     "output_type": "stream",
     "text": [
      "tensor([0., 1., 0.], dtype=torch.float64)\n",
      "tensor([[0.1000, 0.2100, 0.0000],\n",
      "        [0.1000, 0.2100, 0.0000],\n",
      "        [0.1000, 0.2100, 0.0000]], dtype=torch.float64)\n"
     ]
    }
   ],
   "source": [
    "import numpy,torch\n",
    "a = numpy.array([1.1, 2.1, 0.3])\n",
    "\n",
    "t = torch.from_numpy(a)\n",
    "\n",
    "b = numpy.array([[0.1, 0.21, 0.0],[0.1, 0.21, 0.0],[0.1, 0.21, 0.0]])\n",
    "\n",
    "s = torch.from_numpy(b)\n",
    "c=torch.bernoulli(s[0])\n",
    "print(c)\n",
    "print(s)"
   ]
  },
  {
   "cell_type": "code",
   "execution_count": 7,
   "id": "2be6e8c9",
   "metadata": {},
   "outputs": [],
   "source": [
    "f = open('src/iec_howto.txt', 'r')\n",
    "\n",
    "data = f.read()\n",
    "\n",
    "f.close()"
   ]
  },
  {
   "cell_type": "code",
   "execution_count": 8,
   "id": "0bffb4a6",
   "metadata": {},
   "outputs": [
    {
     "name": "stdout",
     "output_type": "stream",
     "text": [
      "まず初めに初期化ボタンを押して、9枚の画像を表示してください。画像が表示されるまで約1分かかります。\n",
      "画像が表示されたら、自分のイメージに近い画像を3,4枚を目安に選んでください。近い画像がなかったときは一つも選ばなくても大丈夫ですし、全て近い場合は全て選んでも大丈夫です。選び終わったら続けるボタンを押して、画像を更新してください。\n",
      "画像を選んでは更新を、出現する画像がこれ以上あなたのイメージに近づかないと感じるまで続けてください。目安は1~10回です。10回より多く更新することはできないので気をつけてください。\n",
      "これ以上あなたのイメージに近づかないと感じたら、その一枚を左下のプルダウンで選び、終わるボタンを押してください。\n",
      "\n"
     ]
    }
   ],
   "source": [
    "print(data)"
   ]
  },
  {
   "cell_type": "code",
   "execution_count": null,
   "id": "3addf9db",
   "metadata": {},
   "outputs": [],
   "source": []
  }
 ],
 "metadata": {
  "kernelspec": {
   "display_name": "Python 3 (ipykernel)",
   "language": "python",
   "name": "python3"
  },
  "language_info": {
   "codemirror_mode": {
    "name": "ipython",
    "version": 3
   },
   "file_extension": ".py",
   "mimetype": "text/x-python",
   "name": "python",
   "nbconvert_exporter": "python",
   "pygments_lexer": "ipython3",
   "version": "3.9.13"
  }
 },
 "nbformat": 4,
 "nbformat_minor": 5
}
