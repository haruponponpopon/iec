{
 "cells": [
  {
   "cell_type": "code",
   "execution_count": 1,
   "id": "4845e400",
   "metadata": {},
   "outputs": [
    {
     "name": "stdout",
     "output_type": "stream",
     "text": [
      "1\n"
     ]
    }
   ],
   "source": [
    "a = [1,2,3]\n",
    "b = []\n",
    "if a:\n",
    "    print(1)\n",
    "if b:\n",
    "    print(2)"
   ]
  },
  {
   "cell_type": "code",
   "execution_count": 2,
   "id": "c9e5d4ec",
   "metadata": {},
   "outputs": [
    {
     "name": "stdout",
     "output_type": "stream",
     "text": [
      "tensor([0., 1., 0.], dtype=torch.float64)\n",
      "tensor([[0.1000, 0.2100, 0.0000],\n",
      "        [0.1000, 0.2100, 0.0000],\n",
      "        [0.1000, 0.2100, 0.0000]], dtype=torch.float64)\n"
     ]
    }
   ],
   "source": [
    "import numpy,torch\n",
    "a = numpy.array([1.1, 2.1, 0.3])\n",
    "\n",
    "t = torch.from_numpy(a)\n",
    "\n",
    "b = numpy.array([[0.1, 0.21, 0.0],[0.1, 0.21, 0.0],[0.1, 0.21, 0.0]])\n",
    "\n",
    "s = torch.from_numpy(b)\n",
    "c=torch.bernoulli(s[0])\n",
    "print(c)\n",
    "print(s)"
   ]
  },
  {
   "cell_type": "code",
   "execution_count": 5,
   "id": "2be6e8c9",
   "metadata": {},
   "outputs": [
    {
     "data": {
      "text/plain": [
       "[[1, 2]]"
      ]
     },
     "execution_count": 5,
     "metadata": {},
     "output_type": "execute_result"
    }
   ],
   "source": [
    "def func():\n",
    "    return [1,2]\n",
    "a=[]\n",
    "a.extend([func()])\n",
    "a"
   ]
  },
  {
   "cell_type": "code",
   "execution_count": null,
   "id": "d6d32418",
   "metadata": {},
   "outputs": [],
   "source": []
  }
 ],
 "metadata": {
  "kernelspec": {
   "display_name": "Python 3 (ipykernel)",
   "language": "python",
   "name": "python3"
  },
  "language_info": {
   "codemirror_mode": {
    "name": "ipython",
    "version": 3
   },
   "file_extension": ".py",
   "mimetype": "text/x-python",
   "name": "python",
   "nbconvert_exporter": "python",
   "pygments_lexer": "ipython3",
   "version": "3.9.13"
  }
 },
 "nbformat": 4,
 "nbformat_minor": 5
}
