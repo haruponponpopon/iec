{
 "cells": [
  {
   "cell_type": "code",
   "execution_count": 2,
   "id": "4845e400",
   "metadata": {},
   "outputs": [
    {
     "name": "stdout",
     "output_type": "stream",
     "text": [
      "Running on local URL:  http://127.0.0.1:7884\n",
      "Running on public URL: https://0e14aeeb-c87a-44ed.gradio.live\n",
      "\n",
      "This share link expires in 72 hours. For free permanent hosting and GPU upgrades (NEW!), check out Spaces: https://huggingface.co/spaces\n"
     ]
    },
    {
     "data": {
      "text/html": [
       "<div><iframe src=\"https://0e14aeeb-c87a-44ed.gradio.live\" width=\"100%\" height=\"500\" allow=\"autoplay; camera; microphone; clipboard-read; clipboard-write;\" frameborder=\"0\" allowfullscreen></iframe></div>"
      ],
      "text/plain": [
       "<IPython.core.display.HTML object>"
      ]
     },
     "metadata": {},
     "output_type": "display_data"
    }
   ],
   "source": [
    "import gradio as gr\n",
    "#ボタンを押すと選択が全解除される\n",
    "def func():\n",
    "    return [False,False,False,False,False]\n",
    "with gr.Blocks() as demo:\n",
    "    population_check = []\n",
    "    continue_btn = gr.Button(\"ボタンリセット\")\n",
    "    for i in range(5):\n",
    "        population_check.append(gr.Checkbox(label=\"👍\"))\n",
    "    continue_btn.click(fn=func, inputs=None, outputs=population_check)\n",
    "if __name__ == \"__main__\":\n",
    "    demo.launch(share=True)"
   ]
  },
  {
   "cell_type": "code",
   "execution_count": 2,
   "id": "c9e5d4ec",
   "metadata": {},
   "outputs": [
    {
     "name": "stdout",
     "output_type": "stream",
     "text": [
      "tensor([0., 1., 0.], dtype=torch.float64)\n",
      "tensor([[0.1000, 0.2100, 0.0000],\n",
      "        [0.1000, 0.2100, 0.0000],\n",
      "        [0.1000, 0.2100, 0.0000]], dtype=torch.float64)\n"
     ]
    }
   ],
   "source": [
    "import numpy,torch\n",
    "a = numpy.array([1.1, 2.1, 0.3])\n",
    "\n",
    "t = torch.from_numpy(a)\n",
    "\n",
    "b = numpy.array([[0.1, 0.21, 0.0],[0.1, 0.21, 0.0],[0.1, 0.21, 0.0]])\n",
    "\n",
    "s = torch.from_numpy(b)\n",
    "c=torch.bernoulli(s[0])\n",
    "print(c)\n",
    "print(s)"
   ]
  },
  {
   "cell_type": "code",
   "execution_count": 1,
   "id": "2be6e8c9",
   "metadata": {},
   "outputs": [
    {
     "name": "stdout",
     "output_type": "stream",
     "text": [
      "1. 初期化ボタンを押し画像を表示してください。  \n",
      "2. 自分のイメージに近い画像を０〜９枚選んでください（目安は３，４枚）。選び終えたら続けるボタンを押してください。  \n",
      "3. 画像を選んでは更新を、出現する画像がこれ以上あなたのイメージに近づかないと感じるまで続けてください。更新できる上限は１０回です。  \n",
      "4. これ以上あなたのイメージに近づかないと感じたら、気に入った画像の欄で選び、終わるボタンを押してください。  \n",
      "\n"
     ]
    }
   ],
   "source": [
    "f = open('src/iec_howto.txt', 'r')\n",
    "\n",
    "data = f.read()\n",
    "\n",
    "f.close()\n",
    "print(data)"
   ]
  },
  {
   "cell_type": "code",
   "execution_count": 1,
   "id": "1309e0f3",
   "metadata": {},
   "outputs": [
    {
     "name": "stderr",
     "output_type": "stream",
     "text": [
      "/home/kobayashi/anaconda3/envs/pytorch/lib/python3.9/site-packages/tqdm/auto.py:22: TqdmWarning: IProgress not found. Please update jupyter and ipywidgets. See https://ipywidgets.readthedocs.io/en/stable/user_install.html\n",
      "  from .autonotebook import tqdm as notebook_tqdm\n"
     ]
    }
   ],
   "source": [
    "from accelerate import init_empty_weights"
   ]
  },
  {
   "cell_type": "code",
   "execution_count": null,
   "id": "a627536a",
   "metadata": {},
   "outputs": [],
   "source": []
  }
 ],
 "metadata": {
  "kernelspec": {
   "display_name": "Python 3 (ipykernel)",
   "language": "python",
   "name": "python3"
  },
  "language_info": {
   "codemirror_mode": {
    "name": "ipython",
    "version": 3
   },
   "file_extension": ".py",
   "mimetype": "text/x-python",
   "name": "python",
   "nbconvert_exporter": "python",
   "pygments_lexer": "ipython3",
   "version": "3.9.13"
  }
 },
 "nbformat": 4,
 "nbformat_minor": 5
}
