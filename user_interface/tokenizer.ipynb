{
 "cells": [
  {
   "cell_type": "code",
   "execution_count": 21,
   "id": "a4128158",
   "metadata": {},
   "outputs": [],
   "source": [
    "from transformers import CLIPTextModel, CLIPTokenizer\n",
    "# import torch\n",
    "# torch_device = \"cuda\" if torch.cuda.is_available() else \"cpu\"\n",
    "tokenizer = CLIPTokenizer.from_pretrained(\"openai/clip-vit-large-patch14\")\n",
    "# text_encoder = CLIPTextModel.from_pretrained(\"openai/clip-vit-large-patch14\")\n",
    "prompt = \"mountain\"\n",
    "text_input = tokenizer(prompt, padding=\"max_length\", max_length=tokenizer.model_max_length, truncation=True, return_tensors=\"pt\")\n",
    "# with torch.no_grad():\n",
    "#   text_embeddings = text_encoder(text_input.input_ids.to(torch_device))[0]\n",
    "# print(text_input)\n",
    "\n"
   ]
  },
  {
   "cell_type": "code",
   "execution_count": 25,
   "id": "a2da3ebc",
   "metadata": {},
   "outputs": [
    {
     "name": "stdout",
     "output_type": "stream",
     "text": [
      "['49406', '3965', '49407', '49407', '49407', '49407', '49407', '49407', '49407', '49407', '49407', '49407', '49407', '49407', '49407', '49407', '49407', '49407', '49407', '49407', '49407', '49407', '49407', '49407', '49407', '49407', '49407', '49407', '49407', '49407', '49407', '49407', '49407', '49407', '49407', '49407', '49407', '49407', '49407', '49407', '49407', '49407', '49407', '49407', '49407', '49407', '49407', '49407', '49407', '49407', '49407', '49407', '49407', '49407', '49407', '49407', '49407', '49407', '49407', '49407', '49407', '49407', '49407', '49407', '49407', '49407', '49407', '49407', '49407', '49407', '49407', '49407', '49407', '49407', '49407', '49407', '49407']\n",
      "494063965494074940749407494074940749407494074940749407494074940749407494074940749407494074940749407494074940749407494074940749407494074940749407494074940749407494074940749407494074940749407494074940749407494074940749407494074940749407494074940749407494074940749407494074940749407494074940749407494074940749407494074940749407494074940749407494074940749407494074940749407494074940749407\n"
     ]
    }
   ],
   "source": [
    "text = ['49406', '3965', '49407', '49407', '49407', '49407', '49407', '49407', '49407', '49407', '49407', '49407', '49407', '49407', '49407', '49407', '49407', '49407', '49407', '49407', '49407', '49407', '49407', '49407', '49407', '49407', '49407', '49407', '49407', '49407', '49407', '49407', '49407', '49407', '49407', '49407', '49407', '49407', '49407', '49407', '49407', '49407', '49407', '49407', '49407', '49407', '49407', '49407', '49407', '49407', '49407', '49407', '49407', '49407', '49407', '49407', '49407', '49407', '49407', '49407', '49407', '49407', '49407', '49407', '49407', '49407', '49407', '49407', '49407', '49407', '49407', '49407', '49407', '49407', '49407', '49407', '49407']\n",
    "print(text)\n",
    "a = tokenizer.convert_tokens_to_string(text)\n",
    "print(a)"
   ]
  },
  {
   "cell_type": "code",
   "execution_count": null,
   "id": "e3349256",
   "metadata": {},
   "outputs": [],
   "source": []
  }
 ],
 "metadata": {
  "kernelspec": {
   "display_name": "Python 3 (ipykernel)",
   "language": "python",
   "name": "python3"
  },
  "language_info": {
   "codemirror_mode": {
    "name": "ipython",
    "version": 3
   },
   "file_extension": ".py",
   "mimetype": "text/x-python",
   "name": "python",
   "nbconvert_exporter": "python",
   "pygments_lexer": "ipython3",
   "version": "3.9.13"
  }
 },
 "nbformat": 4,
 "nbformat_minor": 5
}
