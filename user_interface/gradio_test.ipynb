{
 "cells": [
  {
   "cell_type": "code",
   "execution_count": 2,
   "id": "2bd1bc25",
   "metadata": {},
   "outputs": [
    {
     "name": "stdout",
     "output_type": "stream",
     "text": [
      "Running on local URL:  http://127.0.0.1:7862\n",
      "Running on public URL: https://cbee4830-14b6-4ddd.gradio.live\n",
      "\n",
      "This share link expires in 72 hours. For free permanent hosting and GPU upgrades (NEW!), check out Spaces: https://huggingface.co/spaces\n"
     ]
    },
    {
     "data": {
      "text/html": [
       "<div><iframe src=\"https://cbee4830-14b6-4ddd.gradio.live\" width=\"100%\" height=\"500\" allow=\"autoplay; camera; microphone; clipboard-read; clipboard-write;\" frameborder=\"0\" allowfullscreen></iframe></div>"
      ],
      "text/plain": [
       "<IPython.core.display.HTML object>"
      ]
     },
     "metadata": {},
     "output_type": "display_data"
    },
    {
     "data": {
      "text/plain": []
     },
     "execution_count": 2,
     "metadata": {},
     "output_type": "execute_result"
    }
   ],
   "source": [
    "import gradio as gr\n",
    "\n",
    "def greet(name):\n",
    "    return image\n",
    "\n",
    "demo = gr.Interface(fn=greet, inputs=\"text\", outputs=\"text\")\n",
    "demo.launch(share=True)"
   ]
  },
  {
   "cell_type": "code",
   "execution_count": 6,
   "id": "c7d6e3b4",
   "metadata": {},
   "outputs": [],
   "source": [
    "#1枚のimageを返すコード\n",
    "import gradio as gr\n",
    "from PIL import Image\n",
    "def greet(s):\n",
    "    image = Image.open(\"sea_image.png\")\n",
    "    print(image)\n",
    "    return image\n",
    "\n",
    "demo = gr.Interface(fn=greet, inputs=\"text\", outputs=\"image\")\n",
    "demo.launch(share=True)"
   ]
  },
  {
   "cell_type": "code",
   "execution_count": 15,
   "id": "21add05d",
   "metadata": {},
   "outputs": [],
   "source": [
    "#1枚のimageをblocksを使って返すコード\n",
    "import gradio as gr\n",
    "def greet(name):\n",
    "    image1 = Image.open(\"sample_image/epoch0/0.png\")\n",
    "    return image1\n",
    "\n",
    "\n",
    "with gr.Blocks() as demo:\n",
    "    name = gr.Textbox(label=\"Name\")\n",
    "    output = gr.Image()\n",
    "    greet_btn = gr.Button(\"Greet\")\n",
    "    greet_btn.click(fn=greet, inputs=name, outputs=output)\n",
    "\n",
    "demo.launch()"
   ]
  },
  {
   "cell_type": "code",
   "execution_count": 16,
   "id": "93b139d9",
   "metadata": {},
   "outputs": [
    {
     "name": "stdout",
     "output_type": "stream",
     "text": [
      "Running on local URL:  http://127.0.0.1:7871\n",
      "\n",
      "To create a public link, set `share=True` in `launch()`.\n"
     ]
    },
    {
     "data": {
      "text/html": [
       "<div><iframe src=\"http://127.0.0.1:7871/\" width=\"100%\" height=\"500\" allow=\"autoplay; camera; microphone; clipboard-read; clipboard-write;\" frameborder=\"0\" allowfullscreen></iframe></div>"
      ],
      "text/plain": [
       "<IPython.core.display.HTML object>"
      ]
     },
     "metadata": {},
     "output_type": "display_data"
    },
    {
     "data": {
      "text/plain": []
     },
     "execution_count": 16,
     "metadata": {},
     "output_type": "execute_result"
    }
   ],
   "source": [
    "#複数枚のimageを返すコード\n",
    "import gradio as gr\n",
    "def greet(name):\n",
    "    image1 = Image.open(\"sample_image/epoch0/0.png\")\n",
    "    image2 = Image.open(\"sample_image/epoch0/1.png\")\n",
    "    return [image1,image2]\n",
    "\n",
    "\n",
    "with gr.Blocks() as demo:\n",
    "    name = gr.Textbox(label=\"Name\")\n",
    "    output = [gr.Image(),gr.Image()]\n",
    "    greet_btn = gr.Button(\"Greet\")\n",
    "    greet_btn.click(fn=greet, inputs=name, outputs=output)\n",
    "\n",
    "demo.launch()"
   ]
  },
  {
   "cell_type": "code",
   "execution_count": 29,
   "id": "29a6d949",
   "metadata": {},
   "outputs": [],
   "source": [
    "#指定されたparameterの枚数のimageを返すコード\n",
    "image_cnt = 3\n",
    "\n",
    "def greet(name):\n",
    "    images = []\n",
    "    for i in range(image_cnt):\n",
    "        image = Image.open(\"sample_image/epoch0/\"+str(i)+\".png\")\n",
    "        images.append(image)\n",
    "    return images\n",
    "\n",
    "\n",
    "with gr.Blocks() as demo:\n",
    "    name = gr.Textbox(label=\"Name\")\n",
    "    output = []\n",
    "    for i in range(image_cnt):\n",
    "        output.append(gr.Image())\n",
    "    greet_btn = gr.Button(\"Greet\")\n",
    "    greet_btn.click(fn=greet, inputs=name, outputs=output)\n",
    "if __name__ == \"__main__\":\n",
    "    \n",
    "    \n",
    "    demo.launch()"
   ]
  },
  {
   "cell_type": "code",
   "execution_count": 30,
   "id": "838f8510",
   "metadata": {},
   "outputs": [],
   "source": [
    "#指定されたparameterの枚数のimageを横に並べて返すコード\n",
    "image_cnt = 3\n",
    "\n",
    "def greet(name):\n",
    "    images = []\n",
    "    for i in range(image_cnt):\n",
    "        image = Image.open(\"sample_image/epoch0/\"+str(i)+\".png\")\n",
    "        images.append(image)\n",
    "    return images\n",
    "\n",
    "\n",
    "with gr.Blocks() as demo:\n",
    "    with gr.Row():\n",
    "        name = gr.Textbox(label=\"Name\")\n",
    "        output = []\n",
    "        for i in range(image_cnt):\n",
    "            output.append(gr.Image(shape=(10,10)))\n",
    "        greet_btn = gr.Button(\"Greet\")\n",
    "        greet_btn.click(fn=greet, inputs=name, outputs=output)\n",
    "if __name__ == \"__main__\":\n",
    "    \n",
    "    \n",
    "    demo.launch()"
   ]
  },
  {
   "cell_type": "code",
   "execution_count": 13,
   "id": "1b5152fa",
   "metadata": {},
   "outputs": [],
   "source": [
    "#指定されたparameterの枚数のimageを縦と横に並べて返すコード\n",
    "image_cnt = 9\n",
    "show_image_x = 3\n",
    "show_image_y = 3\n",
    "\n",
    "def greet(name):\n",
    "    images = []\n",
    "    for i in range(image_cnt):\n",
    "        image = Image.open(\"sample_image/epoch0/\"+str(i)+\".png\")\n",
    "        images.append(image)\n",
    "    return images\n",
    "\n",
    "\n",
    "with gr.Blocks() as demo:\n",
    "    with gr.Row():\n",
    "        name = gr.Textbox(label=\"Name\")\n",
    "        output = []\n",
    "        with gr.Column():\n",
    "            for i in range(show_image_x):\n",
    "                with gr.Row():\n",
    "                    for j in range(show_image_y):\n",
    "                        output.append(gr.Image(shape=(10,10)))\n",
    "        greet_btn = gr.Button(\"Greet\")\n",
    "        greet_btn.click(fn=greet, inputs=name, outputs=output)\n",
    "if __name__ == \"__main__\":\n",
    "    \n",
    "    \n",
    "    demo.launch()"
   ]
  },
  {
   "cell_type": "code",
   "execution_count": 14,
   "id": "cde4de30",
   "metadata": {},
   "outputs": [],
   "source": [
    "import gradio as gr\n",
    "from PIL import Image\n",
    "#ギャラリーを使ったコード\n",
    "image_cnt = 9\n",
    "show_image_x = 3\n",
    "show_image_y = 3\n",
    "\n",
    "def greet(name):\n",
    "    images = []\n",
    "    for i in range(show_image_x):\n",
    "        for j in range(show_image_y):\n",
    "            image = Image.open(\"sample_image/epoch0/\"+str(i*show_image_y+j)+\".png\")\n",
    "            images.append(image)\n",
    "        images.append(images)\n",
    "    return images\n",
    "\n",
    "with gr.Blocks() as demo:\n",
    "    with gr.Row():\n",
    "        with gr.Column(max_width=10):\n",
    "            gr.Markdown(\"この中から\")\n",
    "            name = gr.Textbox(label=\"input prompt\")\n",
    "            output = []\n",
    "            gr.Markdown(\"残りx回\")\n",
    "            continue_btn = gr.Button(\"continue\")\n",
    "            continue_btn.click(fn=greet, inputs=name, outputs=output)\n",
    "            end_btn = gr.Button(\"end\")\n",
    "            end_btn.click(fn=greet, inputs=name, outputs=output)\n",
    "        output = gr.Gallery(\n",
    "                label=\"Generated images\", show_label=False, elem_id=\"gallery\"\n",
    "            ).style(grid=[3], height=\"auto\")\n",
    "        \n",
    "\n",
    "                    \n",
    "if __name__ == \"__main__\":\n",
    "    demo.launch(debug=True,share=True)"
   ]
  },
  {
   "cell_type": "code",
   "execution_count": null,
   "id": "05fd2b7e",
   "metadata": {},
   "outputs": [],
   "source": [
    "# This demo needs to be run from the repo folder.\n",
    "# python demo/fake_gan/run.py\n",
    "import os\n",
    "import random\n",
    "\n",
    "import gradio as gr\n",
    "\n",
    "\n",
    "def fake_gan():\n",
    "    images = [\n",
    "        (\"sample_image/epoch0/0.png\", f\"label 0\"),\n",
    "        (\"sample_image/epoch0/0.png\", f\"label 1\"),\n",
    "        (\"sample_image/epoch0/0.png\", f\"label 2\"),\n",
    "        (\"sample_image/epoch0/0.png\", f\"label 3\"),\n",
    "        (\"sample_image/epoch0/0.png\", f\"label 4\"),\n",
    "        (\"sample_image/epoch0/0.png\", f\"label 5\"),\n",
    "        (\"sample_image/epoch0/0.png\", f\"label 6\"),\n",
    "        (\"sample_image/epoch0/0.png\", f\"label 7\"),\n",
    "        (\"sample_image/epoch0/0.png\", f\"label 8\")\n",
    "    ]\n",
    "#     for i in range(show_image_x):\n",
    "#         for j in range(show_image_y):\n",
    "#             image = Image.open(\"sample_image/epoch0/\"+str(i*show_image_y+j)+\".png\")\n",
    "#             images.append(image)\n",
    "#         images.append(images)\n",
    "    return images\n",
    "\n",
    "\n",
    "with gr.Blocks() as demo:\n",
    "    with gr.Column(variant=\"panel\"):\n",
    "        with gr.Row(variant=\"compact\"):\n",
    "            text = gr.Textbox(\n",
    "                label=\"Enter your prompt\",\n",
    "                show_label=False,\n",
    "                max_lines=1,\n",
    "                placeholder=\"Enter your prompt\",\n",
    "            ).style(\n",
    "                container=False,\n",
    "            )\n",
    "            btn = gr.Button(\"Generate image\").style(full_width=False)\n",
    "\n",
    "        gallery = gr.Gallery(\n",
    "            label=\"Generated images\", show_label=False, elem_id=\"gallery\"\n",
    "        ).style(grid=[3], height=\"auto\")\n",
    "\n",
    "    btn.click(fake_gan, None, gallery)\n",
    "\n",
    "if __name__ == \"__main__\":\n",
    "    demo.launch()"
   ]
  },
  {
   "cell_type": "code",
   "execution_count": 31,
   "id": "f920fce1",
   "metadata": {},
   "outputs": [],
   "source": [
    "# This demo needs to be run from the repo folder.\n",
    "# python demo/fake_gan/run.py\n",
    "import os\n",
    "import random\n",
    "\n",
    "import gradio as gr\n",
    "\n",
    "\n",
    "def fake_gan():\n",
    "    images = [\n",
    "        (\"sample_image/epoch0/0.png\", f\"label 0\"),\n",
    "        (\"sample_image/epoch0/0.png\", f\"label 1\"),\n",
    "        (\"sample_image/epoch0/0.png\", f\"label 2\"),\n",
    "        (\"sample_image/epoch0/0.png\", f\"label 3\"),\n",
    "        (\"sample_image/epoch0/0.png\", f\"label 4\"),\n",
    "        (\"sample_image/epoch0/0.png\", f\"label 5\"),\n",
    "        (\"sample_image/epoch0/0.png\", f\"label 6\"),\n",
    "        (\"sample_image/epoch0/0.png\", f\"label 7\"),\n",
    "        (\"sample_image/epoch0/0.png\", f\"label 8\")\n",
    "    ]\n",
    "    return images\n",
    "\n",
    "\n",
    "with gr.Blocks() as demo:\n",
    "    with gr.Row():\n",
    "        with gr.Column():\n",
    "            gr.Markdown(\"この中から\")\n",
    "            text = gr.Textbox(\n",
    "                label=\"Enter your prompt\",\n",
    "                show_label=False,\n",
    "                max_lines=1,\n",
    "                placeholder=\"Enter your prompt\",\n",
    "            ).style(\n",
    "                container=False,\n",
    "            )\n",
    "            btn = gr.Button(\"Generate image\").style(full_width=False)\n",
    "\n",
    "        gallery = gr.Gallery(\n",
    "            label=\"Generated images\", show_label=False, elem_id=\"gallery\"\n",
    "        ).style(grid=[3], height=\"auto\")\n",
    "\n",
    "    btn.click(fake_gan, None, gallery)\n",
    "\n",
    "if __name__ == \"__main__\":\n",
    "    demo.launch()"
   ]
  },
  {
   "cell_type": "code",
   "execution_count": 33,
   "id": "0dfbf479",
   "metadata": {},
   "outputs": [
    {
     "name": "stdout",
     "output_type": "stream",
     "text": [
      "Running on local URL:  http://127.0.0.1:7874\n",
      "Running on public URL: https://5c603e9e-10eb-4b45.gradio.live\n",
      "\n",
      "This share link expires in 72 hours. For free permanent hosting and GPU upgrades (NEW!), check out Spaces: https://huggingface.co/spaces\n"
     ]
    },
    {
     "data": {
      "text/html": [
       "<div><iframe src=\"https://5c603e9e-10eb-4b45.gradio.live\" width=\"100%\" height=\"500\" allow=\"autoplay; camera; microphone; clipboard-read; clipboard-write;\" frameborder=\"0\" allowfullscreen></iframe></div>"
      ],
      "text/plain": [
       "<IPython.core.display.HTML object>"
      ]
     },
     "metadata": {},
     "output_type": "display_data"
    },
    {
     "name": "stderr",
     "output_type": "stream",
     "text": [
      "Traceback (most recent call last):\n",
      "  File \"/home/kobayashi/anaconda3/envs/pytorch/lib/python3.9/site-packages/gradio/routes.py\", line 337, in run_predict\n",
      "    output = await app.get_blocks().process_api(\n",
      "  File \"/home/kobayashi/anaconda3/envs/pytorch/lib/python3.9/site-packages/gradio/blocks.py\", line 1018, in process_api\n",
      "    data = self.postprocess_data(fn_index, result[\"prediction\"], state)\n",
      "  File \"/home/kobayashi/anaconda3/envs/pytorch/lib/python3.9/site-packages/gradio/blocks.py\", line 956, in postprocess_data\n",
      "    prediction_value = block.postprocess(prediction_value)\n",
      "  File \"/home/kobayashi/anaconda3/envs/pytorch/lib/python3.9/site-packages/gradio/components.py\", line 3729, in postprocess\n",
      "    img, caption = img\n",
      "ValueError: too many values to unpack (expected 2)\n"
     ]
    },
    {
     "name": "stdout",
     "output_type": "stream",
     "text": [
      "Keyboard interruption in main thread... closing server.\n",
      "Killing tunnel 127.0.0.1:7874 <> https://5c603e9e-10eb-4b45.gradio.live\n"
     ]
    }
   ],
   "source": [
    "#ギャラリーを使ったコード\n",
    "import random\n",
    "image_cnt = 9\n",
    "show_image_x = 3\n",
    "show_image_y = 3\n",
    "\n",
    "\n",
    "def fake_gan():\n",
    "    images = [\n",
    "        (\"sample_image/epoch0/0.png\", f\"label 0\"),\n",
    "        (\"sample_image/epoch0/0.png\", f\"label 1\"),\n",
    "        (\"sample_image/epoch0/0.png\", f\"label 2\"),\n",
    "        (\"sample_image/epoch0/0.png\", f\"label 3\"),\n",
    "        (\"sample_image/epoch0/0.png\", f\"label 4\"),\n",
    "        (\"sample_image/epoch0/0.png\", f\"label 5\"),\n",
    "        (\"sample_image/epoch0/0.png\", f\"label 6\"),\n",
    "        (\"sample_image/epoch0/0.png\", f\"label 7\"),\n",
    "        (\"sample_image/epoch0/0.png\", f\"label 8\")\n",
    "    ]\n",
    "    return images\n",
    "\n",
    "with gr.Blocks() as demo:\n",
    "    with gr.Row():\n",
    "        with gr.Column():\n",
    "            gr.Markdown(\"この中から良いと思った画像を好きなだけ選択してください\")\n",
    "            name = gr.Textbox(label=\"input prompt\")\n",
    "            output = []\n",
    "            gr.Markdown(\"残りx回\")\n",
    "            continue_btn = gr.Button(\"continue\")\n",
    "            \n",
    "            end_btn = gr.Button(\"end\")\n",
    "            \n",
    "        output = gr.Gallery(\n",
    "                label=\"Generated images\", show_label=False, elem_id=\"gallery\"\n",
    "            ).style(grid=[3], height=\"auto\")\n",
    "    continue_btn.click(fn=fake_gan, inputs=None, outputs=output) \n",
    "    end_btn.click(fn=fake_gan, inputs=None, outputs=output)\n",
    "\n",
    "                    \n",
    "if __name__ == \"__main__\":\n",
    "    demo.launch(debug=True,share=True)"
   ]
  },
  {
   "cell_type": "code",
   "execution_count": 39,
   "id": "6f59ea80",
   "metadata": {},
   "outputs": [
    {
     "name": "stdout",
     "output_type": "stream",
     "text": [
      "Running on local URL:  http://127.0.0.1:7877\n",
      "\n",
      "To create a public link, set `share=True` in `launch()`.\n"
     ]
    },
    {
     "data": {
      "text/html": [
       "<div><iframe src=\"http://127.0.0.1:7877/\" width=\"100%\" height=\"500\" allow=\"autoplay; camera; microphone; clipboard-read; clipboard-write;\" frameborder=\"0\" allowfullscreen></iframe></div>"
      ],
      "text/plain": [
       "<IPython.core.display.HTML object>"
      ]
     },
     "metadata": {},
     "output_type": "display_data"
    }
   ],
   "source": [
    "#指定されたparameterの枚数のimageを縦と横に並べて返すコード\n",
    "image_cnt = 9\n",
    "show_image_x = 3\n",
    "show_image_y = 3\n",
    "\n",
    "def greet(name):\n",
    "    images = []\n",
    "    for i in range(image_cnt):\n",
    "        image = Image.open(\"sample_image/epoch0/\"+str(i)+\".png\")\n",
    "        images.append(image)\n",
    "    return images\n",
    "\n",
    "\n",
    "with gr.Blocks() as demo:\n",
    "    output = []\n",
    "    with gr.Row():\n",
    "        with gr.Column():\n",
    "            gr.Markdown(\"この中から良いと思った画像を好きなだけ選択してください\")\n",
    "            name = gr.Textbox(label=\"Name\")\n",
    "            gr.Markdown(\"この中から良いと思った画像を好きなだけ選択してください\")\n",
    "            greet_btn = gr.Button(\"Greet\")\n",
    "            \n",
    "        with gr.Column():\n",
    "            with gr.Row():\n",
    "                output.append(gr.Image())\n",
    "                gr.Button(\"Greet\")\n",
    "            with gr.Row():\n",
    "                output.append(gr.Image())\n",
    "                gr.Button(\"Greet\")\n",
    "            with gr.Row():\n",
    "                output.append(gr.Image())\n",
    "                gr.Button(\"Greet\")\n",
    "        with gr.Column():\n",
    "            with gr.Row():\n",
    "                output.append(gr.Image())\n",
    "                gr.Button(\"Greet\")\n",
    "            with gr.Row():\n",
    "                output.append(gr.Image())\n",
    "                gr.Button(\"Greet\")\n",
    "            with gr.Row():\n",
    "                output.append(gr.Image())\n",
    "                gr.Button(\"Greet\")\n",
    "        with gr.Column():\n",
    "            with gr.Row():\n",
    "                output.append(gr.Image())\n",
    "                gr.Button(\"Greet\")\n",
    "            with gr.Row():\n",
    "                output.append(gr.Image())\n",
    "                gr.Button(\"Greet\")\n",
    "            with gr.Row():\n",
    "                output.append(gr.Image())\n",
    "                gr.Button(\"Greet\")\n",
    "#         with gr.Column():\n",
    "#             output.append(gr.Image())\n",
    "#             output.append(gr.Image())\n",
    "#             output.append(gr.Image())\n",
    "#         with gr.Column():\n",
    "#             output.append(gr.Image())\n",
    "#             output.append(gr.Image())\n",
    "#             output.append(gr.Image())\n",
    "    greet_btn.click(fn=greet, inputs=name, outputs=output)\n",
    "#             for i in range(show_image_x):\n",
    "#                 with gr.Row():\n",
    "#                     for j in range(show_image_y):\n",
    "#                         output.append(gr.Image(shape=(10,10)))\n",
    "#         greet_btn = gr.Button(\"Greet\")\n",
    "#         greet_btn.click(fn=greet, inputs=name, outputs=output)\n",
    "if __name__ == \"__main__\":\n",
    "    \n",
    "    \n",
    "    demo.launch()"
   ]
  },
  {
   "cell_type": "code",
   "execution_count": 4,
   "id": "6b80648f",
   "metadata": {},
   "outputs": [
    {
     "name": "stderr",
     "output_type": "stream",
     "text": [
      "/home/kobayashi/anaconda3/envs/pytorch/lib/python3.9/site-packages/gradio/utils.py:805: UserWarning: Expected 2 arguments for function <function checkbox_change at 0x7fcf71b201f0>, received 9.\n",
      "  warnings.warn(\n",
      "/home/kobayashi/anaconda3/envs/pytorch/lib/python3.9/site-packages/gradio/utils.py:813: UserWarning: Expected maximum 2 arguments for function <function checkbox_change at 0x7fcf71b201f0>, received 9.\n",
      "  warnings.warn(\n"
     ]
    },
    {
     "ename": "FileNotFoundError",
     "evalue": "[Errno 2] No such file or directory",
     "output_type": "error",
     "traceback": [
      "\u001b[0;31m---------------------------------------------------------------------------\u001b[0m",
      "\u001b[0;31mFileNotFoundError\u001b[0m                         Traceback (most recent call last)",
      "Input \u001b[0;32mIn [4]\u001b[0m, in \u001b[0;36m<cell line: 33>\u001b[0;34m()\u001b[0m\n\u001b[1;32m     54\u001b[0m         end_btn\u001b[38;5;241m.\u001b[39mclick(fn\u001b[38;5;241m=\u001b[39mcheckbox_change,inputs\u001b[38;5;241m=\u001b[39mpopulation_check,outputs\u001b[38;5;241m=\u001b[39minput_prompt)\n\u001b[1;32m     55\u001b[0m     \u001b[38;5;28;01mwith\u001b[39;00m gr\u001b[38;5;241m.\u001b[39mTab(\u001b[38;5;124m\"\u001b[39m\u001b[38;5;124mPractice 2\u001b[39m\u001b[38;5;124m\"\u001b[39m):\n\u001b[0;32m---> 56\u001b[0m         end_btn \u001b[38;5;241m=\u001b[39m gr\u001b[38;5;241m.\u001b[39mButton(\u001b[38;5;124m\"\u001b[39m\u001b[38;5;124m終わる\u001b[39m\u001b[38;5;124m\"\u001b[39m)\n\u001b[1;32m     58\u001b[0m \u001b[38;5;28;01mif\u001b[39;00m \u001b[38;5;18m__name__\u001b[39m \u001b[38;5;241m==\u001b[39m \u001b[38;5;124m\"\u001b[39m\u001b[38;5;124m__main__\u001b[39m\u001b[38;5;124m\"\u001b[39m:\n\u001b[1;32m     59\u001b[0m     demo\u001b[38;5;241m.\u001b[39mlaunch(share\u001b[38;5;241m=\u001b[39m\u001b[38;5;28;01mTrue\u001b[39;00m)\n",
      "File \u001b[0;32m~/anaconda3/envs/pytorch/lib/python3.9/site-packages/gradio/blocks.py:1098\u001b[0m, in \u001b[0;36mBlocks.__exit__\u001b[0;34m(self, *args)\u001b[0m\n\u001b[1;32m   1096\u001b[0m     \u001b[38;5;28mself\u001b[39m\u001b[38;5;241m.\u001b[39mparent\u001b[38;5;241m.\u001b[39mchildren\u001b[38;5;241m.\u001b[39mextend(\u001b[38;5;28mself\u001b[39m\u001b[38;5;241m.\u001b[39mchildren)\n\u001b[1;32m   1097\u001b[0m \u001b[38;5;28mself\u001b[39m\u001b[38;5;241m.\u001b[39mconfig \u001b[38;5;241m=\u001b[39m \u001b[38;5;28mself\u001b[39m\u001b[38;5;241m.\u001b[39mget_config_file()\n\u001b[0;32m-> 1098\u001b[0m \u001b[38;5;28mself\u001b[39m\u001b[38;5;241m.\u001b[39mapp \u001b[38;5;241m=\u001b[39m \u001b[43mroutes\u001b[49m\u001b[38;5;241;43m.\u001b[39;49m\u001b[43mApp\u001b[49m\u001b[38;5;241;43m.\u001b[39;49m\u001b[43mcreate_app\u001b[49m\u001b[43m(\u001b[49m\u001b[38;5;28;43mself\u001b[39;49m\u001b[43m)\u001b[49m\n\u001b[1;32m   1099\u001b[0m \u001b[38;5;28mself\u001b[39m\u001b[38;5;241m.\u001b[39mprogress_tracking \u001b[38;5;241m=\u001b[39m \u001b[38;5;28many\u001b[39m(\n\u001b[1;32m   1100\u001b[0m     block_fn\u001b[38;5;241m.\u001b[39mfn \u001b[38;5;129;01mis\u001b[39;00m \u001b[38;5;129;01mnot\u001b[39;00m \u001b[38;5;28;01mNone\u001b[39;00m \u001b[38;5;129;01mand\u001b[39;00m special_args(block_fn\u001b[38;5;241m.\u001b[39mfn)[\u001b[38;5;241m1\u001b[39m] \u001b[38;5;129;01mis\u001b[39;00m \u001b[38;5;129;01mnot\u001b[39;00m \u001b[38;5;28;01mNone\u001b[39;00m\n\u001b[1;32m   1101\u001b[0m     \u001b[38;5;28;01mfor\u001b[39;00m block_fn \u001b[38;5;129;01min\u001b[39;00m \u001b[38;5;28mself\u001b[39m\u001b[38;5;241m.\u001b[39mfns\n\u001b[1;32m   1102\u001b[0m )\n",
      "File \u001b[0;32m~/anaconda3/envs/pytorch/lib/python3.9/site-packages/gradio/routes.py:136\u001b[0m, in \u001b[0;36mApp.create_app\u001b[0;34m(blocks)\u001b[0m\n\u001b[1;32m    133\u001b[0m \u001b[38;5;129m@staticmethod\u001b[39m\n\u001b[1;32m    134\u001b[0m \u001b[38;5;28;01mdef\u001b[39;00m \u001b[38;5;21mcreate_app\u001b[39m(blocks: gradio\u001b[38;5;241m.\u001b[39mBlocks) \u001b[38;5;241m-\u001b[39m\u001b[38;5;241m>\u001b[39m App:\n\u001b[1;32m    135\u001b[0m     app \u001b[38;5;241m=\u001b[39m App(default_response_class\u001b[38;5;241m=\u001b[39mORJSONResponse)\n\u001b[0;32m--> 136\u001b[0m     \u001b[43mapp\u001b[49m\u001b[38;5;241;43m.\u001b[39;49m\u001b[43mconfigure_app\u001b[49m\u001b[43m(\u001b[49m\u001b[43mblocks\u001b[49m\u001b[43m)\u001b[49m\n\u001b[1;32m    138\u001b[0m     app\u001b[38;5;241m.\u001b[39madd_middleware(\n\u001b[1;32m    139\u001b[0m         CORSMiddleware,\n\u001b[1;32m    140\u001b[0m         allow_origins\u001b[38;5;241m=\u001b[39m[\u001b[38;5;124m\"\u001b[39m\u001b[38;5;124m*\u001b[39m\u001b[38;5;124m\"\u001b[39m],\n\u001b[1;32m    141\u001b[0m         allow_methods\u001b[38;5;241m=\u001b[39m[\u001b[38;5;124m\"\u001b[39m\u001b[38;5;124m*\u001b[39m\u001b[38;5;124m\"\u001b[39m],\n\u001b[1;32m    142\u001b[0m         allow_headers\u001b[38;5;241m=\u001b[39m[\u001b[38;5;124m\"\u001b[39m\u001b[38;5;124m*\u001b[39m\u001b[38;5;124m\"\u001b[39m],\n\u001b[1;32m    143\u001b[0m     )\n\u001b[1;32m    145\u001b[0m     \u001b[38;5;129m@app\u001b[39m\u001b[38;5;241m.\u001b[39mget(\u001b[38;5;124m\"\u001b[39m\u001b[38;5;124m/user\u001b[39m\u001b[38;5;124m\"\u001b[39m)\n\u001b[1;32m    146\u001b[0m     \u001b[38;5;129m@app\u001b[39m\u001b[38;5;241m.\u001b[39mget(\u001b[38;5;124m\"\u001b[39m\u001b[38;5;124m/user/\u001b[39m\u001b[38;5;124m\"\u001b[39m)\n\u001b[1;32m    147\u001b[0m     \u001b[38;5;28;01mdef\u001b[39;00m \u001b[38;5;21mget_current_user\u001b[39m(request: fastapi\u001b[38;5;241m.\u001b[39mRequest) \u001b[38;5;241m-\u001b[39m\u001b[38;5;241m>\u001b[39m Optional[\u001b[38;5;28mstr\u001b[39m]:\n",
      "File \u001b[0;32m~/anaconda3/envs/pytorch/lib/python3.9/site-packages/gradio/routes.py:124\u001b[0m, in \u001b[0;36mApp.configure_app\u001b[0;34m(self, blocks)\u001b[0m\n\u001b[1;32m    122\u001b[0m \u001b[38;5;28;01mif\u001b[39;00m \u001b[38;5;28mhasattr\u001b[39m(\u001b[38;5;28mself\u001b[39m\u001b[38;5;241m.\u001b[39mblocks, \u001b[38;5;124m\"\u001b[39m\u001b[38;5;124m_queue\u001b[39m\u001b[38;5;124m\"\u001b[39m):\n\u001b[1;32m    123\u001b[0m     \u001b[38;5;28mself\u001b[39m\u001b[38;5;241m.\u001b[39mblocks\u001b[38;5;241m.\u001b[39m_queue\u001b[38;5;241m.\u001b[39mset_access_token(\u001b[38;5;28mself\u001b[39m\u001b[38;5;241m.\u001b[39mqueue_token)\n\u001b[0;32m--> 124\u001b[0m \u001b[38;5;28mself\u001b[39m\u001b[38;5;241m.\u001b[39mcwd \u001b[38;5;241m=\u001b[39m \u001b[43mos\u001b[49m\u001b[38;5;241;43m.\u001b[39;49m\u001b[43mgetcwd\u001b[49m\u001b[43m(\u001b[49m\u001b[43m)\u001b[49m\n\u001b[1;32m    125\u001b[0m \u001b[38;5;28mself\u001b[39m\u001b[38;5;241m.\u001b[39mfavicon_path \u001b[38;5;241m=\u001b[39m blocks\u001b[38;5;241m.\u001b[39mfavicon_path\n\u001b[1;32m    126\u001b[0m \u001b[38;5;28mself\u001b[39m\u001b[38;5;241m.\u001b[39mtokens \u001b[38;5;241m=\u001b[39m {}\n",
      "\u001b[0;31mFileNotFoundError\u001b[0m: [Errno 2] No such file or directory"
     ]
    }
   ],
   "source": [
    "import gradio as gr\n",
    "from PIL import Image\n",
    "#指定されたparameterの枚数のimageを縦と横に並べて返すコード\n",
    "population = 9\n",
    "show_image_x = 3\n",
    "show_image_y = 3\n",
    "epoch=0\n",
    "def initialize_image(input_prompt):\n",
    "    images = []\n",
    "    for i in range(population):\n",
    "        image = Image.open(\"sample_image/epoch0/\"+str(i)+\".png\")\n",
    "        images.append(image)\n",
    "    return images\n",
    "def generate_image(*input_prompt):\n",
    "    global epoch\n",
    "    epoch+=1\n",
    "    images = []\n",
    "    for i in range(population):\n",
    "        image = Image.open(\"sample_image/epoch\"+str(epoch)+\"/\"+str(i)+\".png\")\n",
    "        images.append(image)\n",
    "    return images\n",
    "def checkbox_change(checkbox,checkbox1):\n",
    "    ans=\"nothing\"\n",
    "#     for c in checkbox:\n",
    "    if checkbox:\n",
    "        ans=checkbox\n",
    "    if checkbox1:\n",
    "        ans+=checkbox1\n",
    "    return ans\n",
    "#     with open('./log.txt', 'a') as f:\n",
    "#         print(id)\n",
    "\n",
    "with gr.Blocks() as demo:\n",
    "    with gr.Tab(\"Practice 1\"):\n",
    "        output = []\n",
    "        population_check = []\n",
    "        with gr.Row():\n",
    "            with gr.Column():\n",
    "                gr.Markdown(\"この中から良いと思った画像を好きなだけ選択してください\")\n",
    "                input_prompt = gr.Textbox(label=\"文章を入力してください\")\n",
    "                gr.Markdown(\"世代数1\")\n",
    "                first_generate_btn = gr.Button(\"初期化\")\n",
    "                continue_btn = gr.Button(\"続ける\")\n",
    "                gr.Dropdown(list(range(population))),\n",
    "                end_btn = gr.Button(\"終わる\")\n",
    "            for i in range(show_image_x):    \n",
    "                with gr.Column():\n",
    "                    for j in range(show_image_y):\n",
    "                        with gr.Row():\n",
    "                            output.append(gr.Image())\n",
    "                        population_check.append(gr.Radio([\"👍\",\"👎\"],value=\"👎\",show_label=False))\n",
    "        first_generate_btn.click(fn=initialize_image, inputs=input_prompt, outputs=output)\n",
    "        continue_btn.click(fn=generate_image, inputs=population_check, outputs=output)\n",
    "        end_btn.click(fn=checkbox_change,inputs=population_check,outputs=input_prompt)\n",
    "    with gr.Tab(\"Practice 2\"):\n",
    "        end_btn = gr.Button(\"終わる\")\n",
    "    \n",
    "if __name__ == \"__main__\":\n",
    "    demo.launch(share=True)"
   ]
  },
  {
   "cell_type": "code",
   "execution_count": null,
   "id": "9dd0c19c",
   "metadata": {},
   "outputs": [],
   "source": []
  }
 ],
 "metadata": {
  "kernelspec": {
   "display_name": "Python 3 (ipykernel)",
   "language": "python",
   "name": "python3"
  },
  "language_info": {
   "codemirror_mode": {
    "name": "ipython",
    "version": 3
   },
   "file_extension": ".py",
   "mimetype": "text/x-python",
   "name": "python",
   "nbconvert_exporter": "python",
   "pygments_lexer": "ipython3",
   "version": "3.9.13"
  }
 },
 "nbformat": 4,
 "nbformat_minor": 5
}
