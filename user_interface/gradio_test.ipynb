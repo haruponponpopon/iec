{
 "cells": [
  {
   "cell_type": "code",
   "execution_count": 2,
   "id": "2bd1bc25",
   "metadata": {},
   "outputs": [
    {
     "name": "stdout",
     "output_type": "stream",
     "text": [
      "Running on local URL:  http://127.0.0.1:7862\n",
      "Running on public URL: https://cbee4830-14b6-4ddd.gradio.live\n",
      "\n",
      "This share link expires in 72 hours. For free permanent hosting and GPU upgrades (NEW!), check out Spaces: https://huggingface.co/spaces\n"
     ]
    },
    {
     "data": {
      "text/html": [
       "<div><iframe src=\"https://cbee4830-14b6-4ddd.gradio.live\" width=\"100%\" height=\"500\" allow=\"autoplay; camera; microphone; clipboard-read; clipboard-write;\" frameborder=\"0\" allowfullscreen></iframe></div>"
      ],
      "text/plain": [
       "<IPython.core.display.HTML object>"
      ]
     },
     "metadata": {},
     "output_type": "display_data"
    },
    {
     "data": {
      "text/plain": []
     },
     "execution_count": 2,
     "metadata": {},
     "output_type": "execute_result"
    }
   ],
   "source": [
    "import gradio as gr\n",
    "\n",
    "def greet(name):\n",
    "    return image\n",
    "\n",
    "demo = gr.Interface(fn=greet, inputs=\"text\", outputs=\"text\")\n",
    "demo.launch(share=True)"
   ]
  },
  {
   "cell_type": "code",
   "execution_count": 6,
   "id": "c7d6e3b4",
   "metadata": {},
   "outputs": [],
   "source": [
    "#1枚のimageを返すコード\n",
    "import gradio as gr\n",
    "from PIL import Image\n",
    "def greet(s):\n",
    "    image = Image.open(\"sea_image.png\")\n",
    "    print(image)\n",
    "    return image\n",
    "\n",
    "demo = gr.Interface(fn=greet, inputs=\"text\", outputs=\"image\")\n",
    "demo.launch(share=True)"
   ]
  },
  {
   "cell_type": "code",
   "execution_count": 15,
   "id": "21add05d",
   "metadata": {},
   "outputs": [],
   "source": [
    "#1枚のimageをblocksを使って返すコード\n",
    "import gradio as gr\n",
    "def greet(name):\n",
    "    image1 = Image.open(\"sample_image/epoch0/0.png\")\n",
    "    return image1\n",
    "\n",
    "\n",
    "with gr.Blocks() as demo:\n",
    "    name = gr.Textbox(label=\"Name\")\n",
    "    output = gr.Image()\n",
    "    greet_btn = gr.Button(\"Greet\")\n",
    "    greet_btn.click(fn=greet, inputs=name, outputs=output)\n",
    "\n",
    "demo.launch()"
   ]
  },
  {
   "cell_type": "code",
   "execution_count": 16,
   "id": "93b139d9",
   "metadata": {},
   "outputs": [
    {
     "name": "stdout",
     "output_type": "stream",
     "text": [
      "Running on local URL:  http://127.0.0.1:7871\n",
      "\n",
      "To create a public link, set `share=True` in `launch()`.\n"
     ]
    },
    {
     "data": {
      "text/html": [
       "<div><iframe src=\"http://127.0.0.1:7871/\" width=\"100%\" height=\"500\" allow=\"autoplay; camera; microphone; clipboard-read; clipboard-write;\" frameborder=\"0\" allowfullscreen></iframe></div>"
      ],
      "text/plain": [
       "<IPython.core.display.HTML object>"
      ]
     },
     "metadata": {},
     "output_type": "display_data"
    },
    {
     "data": {
      "text/plain": []
     },
     "execution_count": 16,
     "metadata": {},
     "output_type": "execute_result"
    }
   ],
   "source": [
    "#複数枚のimageを返すコード\n",
    "import gradio as gr\n",
    "def greet(name):\n",
    "    image1 = Image.open(\"sample_image/epoch0/0.png\")\n",
    "    image2 = Image.open(\"sample_image/epoch0/1.png\")\n",
    "    return [image1,image2]\n",
    "\n",
    "\n",
    "with gr.Blocks() as demo:\n",
    "    name = gr.Textbox(label=\"Name\")\n",
    "    output = [gr.Image(),gr.Image()]\n",
    "    greet_btn = gr.Button(\"Greet\")\n",
    "    greet_btn.click(fn=greet, inputs=name, outputs=output)\n",
    "\n",
    "demo.launch()"
   ]
  },
  {
   "cell_type": "code",
   "execution_count": 29,
   "id": "29a6d949",
   "metadata": {},
   "outputs": [],
   "source": [
    "#指定されたparameterの枚数のimageを返すコード\n",
    "image_cnt = 3\n",
    "\n",
    "def greet(name):\n",
    "    images = []\n",
    "    for i in range(image_cnt):\n",
    "        image = Image.open(\"sample_image/epoch0/\"+str(i)+\".png\")\n",
    "        images.append(image)\n",
    "    return images\n",
    "\n",
    "\n",
    "with gr.Blocks() as demo:\n",
    "    name = gr.Textbox(label=\"Name\")\n",
    "    output = []\n",
    "    for i in range(image_cnt):\n",
    "        output.append(gr.Image())\n",
    "    greet_btn = gr.Button(\"Greet\")\n",
    "    greet_btn.click(fn=greet, inputs=name, outputs=output)\n",
    "if __name__ == \"__main__\":\n",
    "    \n",
    "    \n",
    "    demo.launch()"
   ]
  },
  {
   "cell_type": "code",
   "execution_count": 30,
   "id": "838f8510",
   "metadata": {},
   "outputs": [],
   "source": [
    "#指定されたparameterの枚数のimageを横に並べて返すコード\n",
    "image_cnt = 3\n",
    "\n",
    "def greet(name):\n",
    "    images = []\n",
    "    for i in range(image_cnt):\n",
    "        image = Image.open(\"sample_image/epoch0/\"+str(i)+\".png\")\n",
    "        images.append(image)\n",
    "    return images\n",
    "\n",
    "\n",
    "with gr.Blocks() as demo:\n",
    "    with gr.Row():\n",
    "        name = gr.Textbox(label=\"Name\")\n",
    "        output = []\n",
    "        for i in range(image_cnt):\n",
    "            output.append(gr.Image(shape=(10,10)))\n",
    "        greet_btn = gr.Button(\"Greet\")\n",
    "        greet_btn.click(fn=greet, inputs=name, outputs=output)\n",
    "if __name__ == \"__main__\":\n",
    "    \n",
    "    \n",
    "    demo.launch()"
   ]
  },
  {
   "cell_type": "code",
   "execution_count": 13,
   "id": "1b5152fa",
   "metadata": {},
   "outputs": [],
   "source": [
    "#指定されたparameterの枚数のimageを縦と横に並べて返すコード\n",
    "image_cnt = 9\n",
    "show_image_x = 3\n",
    "show_image_y = 3\n",
    "\n",
    "def greet(name):\n",
    "    images = []\n",
    "    for i in range(image_cnt):\n",
    "        image = Image.open(\"sample_image/epoch0/\"+str(i)+\".png\")\n",
    "        images.append(image)\n",
    "    return images\n",
    "\n",
    "\n",
    "with gr.Blocks() as demo:\n",
    "    with gr.Row():\n",
    "        name = gr.Textbox(label=\"Name\")\n",
    "        output = []\n",
    "        with gr.Column():\n",
    "            for i in range(show_image_x):\n",
    "                with gr.Row():\n",
    "                    for j in range(show_image_y):\n",
    "                        output.append(gr.Image(shape=(10,10)))\n",
    "        greet_btn = gr.Button(\"Greet\")\n",
    "        greet_btn.click(fn=greet, inputs=name, outputs=output)\n",
    "if __name__ == \"__main__\":\n",
    "    \n",
    "    \n",
    "    demo.launch()"
   ]
  },
  {
   "cell_type": "code",
   "execution_count": 14,
   "id": "cde4de30",
   "metadata": {},
   "outputs": [],
   "source": [
    "import gradio as gr\n",
    "from PIL import Image\n",
    "#ギャラリーを使ったコード\n",
    "image_cnt = 9\n",
    "show_image_x = 3\n",
    "show_image_y = 3\n",
    "\n",
    "def greet(name):\n",
    "    images = []\n",
    "    for i in range(show_image_x):\n",
    "        for j in range(show_image_y):\n",
    "            image = Image.open(\"sample_image/epoch0/\"+str(i*show_image_y+j)+\".png\")\n",
    "            images.append(image)\n",
    "        images.append(images)\n",
    "    return images\n",
    "\n",
    "with gr.Blocks() as demo:\n",
    "    with gr.Row():\n",
    "        with gr.Column(max_width=10):\n",
    "            gr.Markdown(\"この中から\")\n",
    "            name = gr.Textbox(label=\"input prompt\")\n",
    "            output = []\n",
    "            gr.Markdown(\"残りx回\")\n",
    "            continue_btn = gr.Button(\"continue\")\n",
    "            continue_btn.click(fn=greet, inputs=name, outputs=output)\n",
    "            end_btn = gr.Button(\"end\")\n",
    "            end_btn.click(fn=greet, inputs=name, outputs=output)\n",
    "        output = gr.Gallery(\n",
    "                label=\"Generated images\", show_label=False, elem_id=\"gallery\"\n",
    "            ).style(grid=[3], height=\"auto\")\n",
    "        \n",
    "\n",
    "                    \n",
    "if __name__ == \"__main__\":\n",
    "    demo.launch(debug=True,share=True)"
   ]
  },
  {
   "cell_type": "code",
   "execution_count": null,
   "id": "05fd2b7e",
   "metadata": {},
   "outputs": [],
   "source": [
    "# This demo needs to be run from the repo folder.\n",
    "# python demo/fake_gan/run.py\n",
    "import os\n",
    "import random\n",
    "\n",
    "import gradio as gr\n",
    "\n",
    "\n",
    "def fake_gan():\n",
    "    images = [\n",
    "        (\"sample_image/epoch0/0.png\", f\"label 0\"),\n",
    "        (\"sample_image/epoch0/0.png\", f\"label 1\"),\n",
    "        (\"sample_image/epoch0/0.png\", f\"label 2\"),\n",
    "        (\"sample_image/epoch0/0.png\", f\"label 3\"),\n",
    "        (\"sample_image/epoch0/0.png\", f\"label 4\"),\n",
    "        (\"sample_image/epoch0/0.png\", f\"label 5\"),\n",
    "        (\"sample_image/epoch0/0.png\", f\"label 6\"),\n",
    "        (\"sample_image/epoch0/0.png\", f\"label 7\"),\n",
    "        (\"sample_image/epoch0/0.png\", f\"label 8\")\n",
    "    ]\n",
    "#     for i in range(show_image_x):\n",
    "#         for j in range(show_image_y):\n",
    "#             image = Image.open(\"sample_image/epoch0/\"+str(i*show_image_y+j)+\".png\")\n",
    "#             images.append(image)\n",
    "#         images.append(images)\n",
    "    return images\n",
    "\n",
    "\n",
    "with gr.Blocks() as demo:\n",
    "    with gr.Column(variant=\"panel\"):\n",
    "        with gr.Row(variant=\"compact\"):\n",
    "            text = gr.Textbox(\n",
    "                label=\"Enter your prompt\",\n",
    "                show_label=False,\n",
    "                max_lines=1,\n",
    "                placeholder=\"Enter your prompt\",\n",
    "            ).style(\n",
    "                container=False,\n",
    "            )\n",
    "            btn = gr.Button(\"Generate image\").style(full_width=False)\n",
    "\n",
    "        gallery = gr.Gallery(\n",
    "            label=\"Generated images\", show_label=False, elem_id=\"gallery\"\n",
    "        ).style(grid=[3], height=\"auto\")\n",
    "\n",
    "    btn.click(fake_gan, None, gallery)\n",
    "\n",
    "if __name__ == \"__main__\":\n",
    "    demo.launch()"
   ]
  },
  {
   "cell_type": "code",
   "execution_count": 31,
   "id": "f920fce1",
   "metadata": {},
   "outputs": [],
   "source": [
    "# This demo needs to be run from the repo folder.\n",
    "# python demo/fake_gan/run.py\n",
    "import os\n",
    "import random\n",
    "\n",
    "import gradio as gr\n",
    "\n",
    "\n",
    "def fake_gan():\n",
    "    images = [\n",
    "        (\"sample_image/epoch0/0.png\", f\"label 0\"),\n",
    "        (\"sample_image/epoch0/0.png\", f\"label 1\"),\n",
    "        (\"sample_image/epoch0/0.png\", f\"label 2\"),\n",
    "        (\"sample_image/epoch0/0.png\", f\"label 3\"),\n",
    "        (\"sample_image/epoch0/0.png\", f\"label 4\"),\n",
    "        (\"sample_image/epoch0/0.png\", f\"label 5\"),\n",
    "        (\"sample_image/epoch0/0.png\", f\"label 6\"),\n",
    "        (\"sample_image/epoch0/0.png\", f\"label 7\"),\n",
    "        (\"sample_image/epoch0/0.png\", f\"label 8\")\n",
    "    ]\n",
    "    return images\n",
    "\n",
    "\n",
    "with gr.Blocks() as demo:\n",
    "    with gr.Row():\n",
    "        with gr.Column():\n",
    "            gr.Markdown(\"この中から\")\n",
    "            text = gr.Textbox(\n",
    "                label=\"Enter your prompt\",\n",
    "                show_label=False,\n",
    "                max_lines=1,\n",
    "                placeholder=\"Enter your prompt\",\n",
    "            ).style(\n",
    "                container=False,\n",
    "            )\n",
    "            btn = gr.Button(\"Generate image\").style(full_width=False)\n",
    "\n",
    "        gallery = gr.Gallery(\n",
    "            label=\"Generated images\", show_label=False, elem_id=\"gallery\"\n",
    "        ).style(grid=[3], height=\"auto\")\n",
    "\n",
    "    btn.click(fake_gan, None, gallery)\n",
    "\n",
    "if __name__ == \"__main__\":\n",
    "    demo.launch()"
   ]
  },
  {
   "cell_type": "code",
   "execution_count": 33,
   "id": "0dfbf479",
   "metadata": {},
   "outputs": [
    {
     "name": "stdout",
     "output_type": "stream",
     "text": [
      "Running on local URL:  http://127.0.0.1:7874\n",
      "Running on public URL: https://5c603e9e-10eb-4b45.gradio.live\n",
      "\n",
      "This share link expires in 72 hours. For free permanent hosting and GPU upgrades (NEW!), check out Spaces: https://huggingface.co/spaces\n"
     ]
    },
    {
     "data": {
      "text/html": [
       "<div><iframe src=\"https://5c603e9e-10eb-4b45.gradio.live\" width=\"100%\" height=\"500\" allow=\"autoplay; camera; microphone; clipboard-read; clipboard-write;\" frameborder=\"0\" allowfullscreen></iframe></div>"
      ],
      "text/plain": [
       "<IPython.core.display.HTML object>"
      ]
     },
     "metadata": {},
     "output_type": "display_data"
    },
    {
     "name": "stderr",
     "output_type": "stream",
     "text": [
      "Traceback (most recent call last):\n",
      "  File \"/home/kobayashi/anaconda3/envs/pytorch/lib/python3.9/site-packages/gradio/routes.py\", line 337, in run_predict\n",
      "    output = await app.get_blocks().process_api(\n",
      "  File \"/home/kobayashi/anaconda3/envs/pytorch/lib/python3.9/site-packages/gradio/blocks.py\", line 1018, in process_api\n",
      "    data = self.postprocess_data(fn_index, result[\"prediction\"], state)\n",
      "  File \"/home/kobayashi/anaconda3/envs/pytorch/lib/python3.9/site-packages/gradio/blocks.py\", line 956, in postprocess_data\n",
      "    prediction_value = block.postprocess(prediction_value)\n",
      "  File \"/home/kobayashi/anaconda3/envs/pytorch/lib/python3.9/site-packages/gradio/components.py\", line 3729, in postprocess\n",
      "    img, caption = img\n",
      "ValueError: too many values to unpack (expected 2)\n"
     ]
    },
    {
     "name": "stdout",
     "output_type": "stream",
     "text": [
      "Keyboard interruption in main thread... closing server.\n",
      "Killing tunnel 127.0.0.1:7874 <> https://5c603e9e-10eb-4b45.gradio.live\n"
     ]
    }
   ],
   "source": [
    "#ギャラリーを使ったコード\n",
    "import random\n",
    "image_cnt = 9\n",
    "show_image_x = 3\n",
    "show_image_y = 3\n",
    "\n",
    "\n",
    "def fake_gan():\n",
    "    images = [\n",
    "        (\"sample_image/epoch0/0.png\", f\"label 0\"),\n",
    "        (\"sample_image/epoch0/0.png\", f\"label 1\"),\n",
    "        (\"sample_image/epoch0/0.png\", f\"label 2\"),\n",
    "        (\"sample_image/epoch0/0.png\", f\"label 3\"),\n",
    "        (\"sample_image/epoch0/0.png\", f\"label 4\"),\n",
    "        (\"sample_image/epoch0/0.png\", f\"label 5\"),\n",
    "        (\"sample_image/epoch0/0.png\", f\"label 6\"),\n",
    "        (\"sample_image/epoch0/0.png\", f\"label 7\"),\n",
    "        (\"sample_image/epoch0/0.png\", f\"label 8\")\n",
    "    ]\n",
    "    return images\n",
    "\n",
    "with gr.Blocks() as demo:\n",
    "    with gr.Row():\n",
    "        with gr.Column():\n",
    "            gr.Markdown(\"この中から良いと思った画像を好きなだけ選択してください\")\n",
    "            name = gr.Textbox(label=\"input prompt\")\n",
    "            output = []\n",
    "            gr.Markdown(\"残りx回\")\n",
    "            continue_btn = gr.Button(\"continue\")\n",
    "            \n",
    "            end_btn = gr.Button(\"end\")\n",
    "            \n",
    "        output = gr.Gallery(\n",
    "                label=\"Generated images\", show_label=False, elem_id=\"gallery\"\n",
    "            ).style(grid=[3], height=\"auto\")\n",
    "    continue_btn.click(fn=fake_gan, inputs=None, outputs=output) \n",
    "    end_btn.click(fn=fake_gan, inputs=None, outputs=output)\n",
    "\n",
    "                    \n",
    "if __name__ == \"__main__\":\n",
    "    demo.launch(debug=True,share=True)"
   ]
  },
  {
   "cell_type": "code",
   "execution_count": 39,
   "id": "6f59ea80",
   "metadata": {},
   "outputs": [
    {
     "name": "stdout",
     "output_type": "stream",
     "text": [
      "Running on local URL:  http://127.0.0.1:7877\n",
      "\n",
      "To create a public link, set `share=True` in `launch()`.\n"
     ]
    },
    {
     "data": {
      "text/html": [
       "<div><iframe src=\"http://127.0.0.1:7877/\" width=\"100%\" height=\"500\" allow=\"autoplay; camera; microphone; clipboard-read; clipboard-write;\" frameborder=\"0\" allowfullscreen></iframe></div>"
      ],
      "text/plain": [
       "<IPython.core.display.HTML object>"
      ]
     },
     "metadata": {},
     "output_type": "display_data"
    }
   ],
   "source": [
    "#指定されたparameterの枚数のimageを縦と横に並べて返すコード\n",
    "image_cnt = 9\n",
    "show_image_x = 3\n",
    "show_image_y = 3\n",
    "\n",
    "def greet(name):\n",
    "    images = []\n",
    "    for i in range(image_cnt):\n",
    "        image = Image.open(\"sample_image/epoch0/\"+str(i)+\".png\")\n",
    "        images.append(image)\n",
    "    return images\n",
    "\n",
    "\n",
    "with gr.Blocks() as demo:\n",
    "    output = []\n",
    "    with gr.Row():\n",
    "        with gr.Column():\n",
    "            gr.Markdown(\"この中から良いと思った画像を好きなだけ選択してください\")\n",
    "            name = gr.Textbox(label=\"Name\")\n",
    "            gr.Markdown(\"この中から良いと思った画像を好きなだけ選択してください\")\n",
    "            greet_btn = gr.Button(\"Greet\")\n",
    "            \n",
    "        with gr.Column():\n",
    "            with gr.Row():\n",
    "                output.append(gr.Image())\n",
    "                gr.Button(\"Greet\")\n",
    "            with gr.Row():\n",
    "                output.append(gr.Image())\n",
    "                gr.Button(\"Greet\")\n",
    "            with gr.Row():\n",
    "                output.append(gr.Image())\n",
    "                gr.Button(\"Greet\")\n",
    "        with gr.Column():\n",
    "            with gr.Row():\n",
    "                output.append(gr.Image())\n",
    "                gr.Button(\"Greet\")\n",
    "            with gr.Row():\n",
    "                output.append(gr.Image())\n",
    "                gr.Button(\"Greet\")\n",
    "            with gr.Row():\n",
    "                output.append(gr.Image())\n",
    "                gr.Button(\"Greet\")\n",
    "        with gr.Column():\n",
    "            with gr.Row():\n",
    "                output.append(gr.Image())\n",
    "                gr.Button(\"Greet\")\n",
    "            with gr.Row():\n",
    "                output.append(gr.Image())\n",
    "                gr.Button(\"Greet\")\n",
    "            with gr.Row():\n",
    "                output.append(gr.Image())\n",
    "                gr.Button(\"Greet\")\n",
    "#         with gr.Column():\n",
    "#             output.append(gr.Image())\n",
    "#             output.append(gr.Image())\n",
    "#             output.append(gr.Image())\n",
    "#         with gr.Column():\n",
    "#             output.append(gr.Image())\n",
    "#             output.append(gr.Image())\n",
    "#             output.append(gr.Image())\n",
    "    greet_btn.click(fn=greet, inputs=name, outputs=output)\n",
    "#             for i in range(show_image_x):\n",
    "#                 with gr.Row():\n",
    "#                     for j in range(show_image_y):\n",
    "#                         output.append(gr.Image(shape=(10,10)))\n",
    "#         greet_btn = gr.Button(\"Greet\")\n",
    "#         greet_btn.click(fn=greet, inputs=name, outputs=output)\n",
    "if __name__ == \"__main__\":\n",
    "    \n",
    "    \n",
    "    demo.launch()"
   ]
  },
  {
   "cell_type": "code",
   "execution_count": 3,
   "id": "6b80648f",
   "metadata": {},
   "outputs": [
    {
     "name": "stderr",
     "output_type": "stream",
     "text": [
      "/home/kobayashi/anaconda3/envs/pytorch/lib/python3.9/site-packages/gradio/utils.py:805: UserWarning: Expected 2 arguments for function <function checkbox_change at 0x7fcf71b79e50>, received 9.\n",
      "  warnings.warn(\n",
      "/home/kobayashi/anaconda3/envs/pytorch/lib/python3.9/site-packages/gradio/utils.py:813: UserWarning: Expected maximum 2 arguments for function <function checkbox_change at 0x7fcf71b79e50>, received 9.\n",
      "  warnings.warn(\n"
     ]
    },
    {
     "name": "stdout",
     "output_type": "stream",
     "text": [
      "Running on local URL:  http://127.0.0.1:7914\n",
      "Running on public URL: https://8a495193-3a34-44a1.gradio.live\n",
      "\n",
      "This share link expires in 72 hours. For free permanent hosting and GPU upgrades (NEW!), check out Spaces: https://huggingface.co/spaces\n"
     ]
    },
    {
     "data": {
      "text/html": [
       "<div><iframe src=\"https://8a495193-3a34-44a1.gradio.live\" width=\"100%\" height=\"500\" allow=\"autoplay; camera; microphone; clipboard-read; clipboard-write;\" frameborder=\"0\" allowfullscreen></iframe></div>"
      ],
      "text/plain": [
       "<IPython.core.display.HTML object>"
      ]
     },
     "metadata": {},
     "output_type": "display_data"
    }
   ],
   "source": [
    "import gradio as gr\n",
    "from PIL import Image\n",
    "#指定されたparameterの枚数のimageを縦と横に並べて返すコード\n",
    "population = 9\n",
    "show_image_x = 3\n",
    "show_image_y = 3\n",
    "epoch=0\n",
    "def initialize_image(input_prompt):\n",
    "    images = []\n",
    "    for i in range(population):\n",
    "        image = Image.open(\"sample_image/epoch0/\"+str(i)+\".png\")\n",
    "        images.append(image)\n",
    "    return images\n",
    "def generate_image(*input_prompt):\n",
    "    global epoch\n",
    "    epoch+=1\n",
    "    images = []\n",
    "    for i in range(population):\n",
    "        image = Image.open(\"sample_image/epoch\"+str(epoch)+\"/\"+str(i)+\".png\")\n",
    "        images.append(image)\n",
    "    return images\n",
    "def checkbox_change(checkbox,checkbox1):\n",
    "    ans=\"nothing\"\n",
    "#     for c in checkbox:\n",
    "    if checkbox:\n",
    "        ans=checkbox\n",
    "    if checkbox1:\n",
    "        ans+=checkbox1\n",
    "    return ans\n",
    "#     with open('./log.txt', 'a') as f:\n",
    "#         print(id)\n",
    "\n",
    "with gr.Blocks() as demo:\n",
    "    with gr.Tab(\"Practice 1\"):\n",
    "        output = []\n",
    "        population_check = []\n",
    "        with gr.Row():\n",
    "            with gr.Column():\n",
    "                gr.Markdown(\"この中から良いと思った画像を好きなだけ選択してください\")\n",
    "                input_prompt = gr.Textbox(label=\"文章を入力してください\")\n",
    "                gr.Markdown(\"世代数1\")\n",
    "                first_generate_btn = gr.Button(\"初期化\")\n",
    "                continue_btn = gr.Button(\"続ける\")\n",
    "                gr.Dropdown(list(range(population))),\n",
    "                end_btn = gr.Button(\"終わる\")\n",
    "            for i in range(show_image_x):    \n",
    "                with gr.Column():\n",
    "                    for j in range(show_image_y):\n",
    "                        with gr.Row():\n",
    "                            output.append(gr.Image())\n",
    "                        population_check.append(gr.Radio([\"👍\",\"👎\"],value=\"👎\",show_label=False))\n",
    "        first_generate_btn.click(fn=initialize_image, inputs=input_prompt, outputs=output)\n",
    "        continue_btn.click(fn=generate_image, inputs=population_check, outputs=output)\n",
    "        end_btn.click(fn=checkbox_change,inputs=population_check,outputs=input_prompt)\n",
    "    with gr.Tab(\"Practice 2\"):\n",
    "        end_btn = gr.Button(\"終わる\")\n",
    "    \n",
    "if __name__ == \"__main__\":\n",
    "    demo.launch(share=True)"
   ]
  },
  {
   "cell_type": "code",
   "execution_count": null,
   "id": "9dd0c19c",
   "metadata": {},
   "outputs": [],
   "source": []
  }
 ],
 "metadata": {
  "kernelspec": {
   "display_name": "Python 3 (ipykernel)",
   "language": "python",
   "name": "python3"
  },
  "language_info": {
   "codemirror_mode": {
    "name": "ipython",
    "version": 3
   },
   "file_extension": ".py",
   "mimetype": "text/x-python",
   "name": "python",
   "nbconvert_exporter": "python",
   "pygments_lexer": "ipython3",
   "version": "3.9.13"
  }
 },
 "nbformat": 4,
 "nbformat_minor": 5
}
