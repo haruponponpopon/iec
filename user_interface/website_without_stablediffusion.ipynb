{
 "cells": [
  {
   "cell_type": "code",
   "execution_count": 83,
   "id": "203c9e33",
   "metadata": {},
   "outputs": [
    {
     "name": "stderr",
     "output_type": "stream",
     "text": [
      "/tmp/ipykernel_2707478/3613496023.py:29: DeprecationWarning: ANTIALIAS is deprecated and will be removed in Pillow 10 (2023-07-01). Use Resampling.LANCZOS instead.\n",
      "  img = img.resize((256,256),Image.ANTIALIAS)\n"
     ]
    },
    {
     "name": "stdout",
     "output_type": "stream",
     "text": [
      "ボタンが押されました！\n",
      "ボタンが押されました！\n",
      "ボタンが押されました！\n",
      "ボタンが押されました！\n"
     ]
    }
   ],
   "source": [
    "##############################################\n",
    "# tkinterの参考にしたサイト\n",
    "# https://teratail.com/questions/202187\n",
    "##############################################\n",
    "\n",
    "import tkinter as tk\n",
    "import random\n",
    "import PIL\n",
    "from PIL import Image,ImageTk\n",
    "\n",
    "##############################################\n",
    "#parameter\n",
    "X = 2\n",
    "Y = 4\n",
    "image_padding = 300\n",
    "##############################################\n",
    "\n",
    "root = tk.Tk()\n",
    "root.geometry('1200x800') #default window size\n",
    "root.title(\"iec system\")\n",
    "\n",
    "def button_push():\n",
    "    print(\"ボタンが押されました！\")\n",
    "    \n",
    "imgs = [] # Imageを保持するリストを追加\n",
    "for i in range(X):\n",
    "    for j in range(Y):\n",
    "        img = Image.open('image/' + str(i*Y+j) + '.png')\n",
    "        img = img.resize((256,256),Image.ANTIALIAS)\n",
    "        img = ImageTk.PhotoImage(img)\n",
    "        imgs.append(img) # Imageをリストに追加\n",
    "        canvas = tk.Canvas(bg = \"purple\", width=256, height=256)\n",
    "        canvas.place(x=j*image_padding, y=i*image_padding) \n",
    "        canvas.create_image(3, 3, image=img, anchor=tk.NW)\n",
    "        button = tk.Button(root,text = str(i*Y+j), bg=\"skyblue\",command=button_push)\n",
    "        button.place(x=(j+0.35)*image_padding,y=(i+0.9)*image_padding)\n",
    "button = tk.Button(root,text = \"OK\", bg=\"orange\")\n",
    "button.place(x=(Y/2-0.13)*image_padding,y=(X+0.2)*image_padding)\n",
    "root.mainloop()"
   ]
  },
  {
   "cell_type": "code",
   "execution_count": 85,
   "id": "c8e79d00",
   "metadata": {},
   "outputs": [],
   "source": [
    "#ライブラリのインポート\n",
    "import tkinter as tk\n",
    "\n",
    "items = [\"なし\", \"りんご\", \"みかん\", \"すいか\", \"もも\", \"ぶどう\", \"ばなな\", \"いちご\", \"めろん\"]\n",
    "\n",
    "class Application(tk.Frame):\n",
    "    def __init__(self, master=None):\n",
    "        super().__init__(master)\n",
    "        self.master.geometry(\"600x200+50+50\")\n",
    "        self.master.title(\"ウインドウ\")\n",
    "        #フレームの作成\n",
    "        self.frame1 = tk.Frame(self.master, width=580, height=70, padx=10, pady=10, bg=\"#E6E6E6\")\n",
    "        self.frame1.grid_propagate(False)\n",
    "        self.frame1.place(x=10, y=10)\n",
    "        self.frame2 = tk.Frame(self.master, width=580, height=100, padx=10, pady=10, bg=\"#E6E6E6\")\n",
    "        self.frame2.grid_propagate(False)\n",
    "        self.frame2.place(x=10, y=90)\n",
    "        #ウィジェット作成\n",
    "        self.create_widgets()\n",
    "        \n",
    "    def create_widgets(self):\n",
    "        #貼り付け先\n",
    "        self.label = tk.Label(self.frame2, text=\"選択したボタン\")\n",
    "        self.label.grid(row=0, column=0, sticky=tk.W)\n",
    "        self.entry = tk.Entry(self.frame2, width=30)\n",
    "        self.entry.grid(row=1, column=0, sticky=tk.W)\n",
    "    \n",
    "        def click_button(item):\n",
    "            def bt():\n",
    "                self.entry.delete(\"0\", \"end\")\n",
    "                self.entry.insert(0, str(item))\n",
    "            return bt\n",
    "        \n",
    "        self.buttons = []\n",
    "        for i, item in enumerate(items):\n",
    "            self.buttons.append(str(item))\n",
    "            self.button = tk.Button(self.frame1, text=item, width=3, height=1,command=click_button(item))\n",
    "            self.button.grid(row=0, column=i)\n",
    "\n",
    "def main():\n",
    "    root = tk.Tk()\n",
    "    app = Application(master=root)\n",
    "    app.mainloop()\n",
    "\n",
    "if __name__ == \"__main__\":\n",
    "    main()"
   ]
  },
  {
   "cell_type": "code",
   "execution_count": 6,
   "id": "27d2ea78",
   "metadata": {},
   "outputs": [
    {
     "name": "stdout",
     "output_type": "stream",
     "text": [
      "ID: haru\n",
      "Pass: 123\n",
      "ID: haru\n",
      "Pass: 123\n"
     ]
    }
   ],
   "source": [
    "from tkinter import *\n",
    "from tkinter import ttk\n",
    "\n",
    "#関数定義\n",
    "def get_id_pass():\n",
    "    id = text_1.get()\n",
    "    password = text_2.get()\n",
    "    print('ID:',id)\n",
    "    print('Pass:',password)\n",
    "\n",
    "def set_clear():\n",
    "    text_1.set('')\n",
    "    text_2.set('')\n",
    "\n",
    "root = Tk()\n",
    "root.title(\"はじめてのtkinter\")\n",
    "\n",
    "#オブジェクトの定義\n",
    "label_1 = ttk.Label(root,text='ユーザ名')\n",
    "text_1 = StringVar()\n",
    "entry_1 = ttk.Entry(root,textvariable=text_1)\n",
    "\n",
    "label_2 = ttk.Label(root,text='パスワード')\n",
    "text_2 = StringVar()\n",
    "entry_2 = ttk.Entry(root,show='*',textvariable=text_2)\n",
    "\n",
    "button_1 = ttk.Button(root,text = 'OK',command=lambda:get_id_pass())\n",
    "button_2 = ttk.Button(root,text = 'Clear',command=lambda:set_clear())\n",
    "button_3 = ttk.Button(root,text = 'Quit',command=quit)\n",
    "\n",
    "#レイアウト\n",
    "label_1.grid(row=0,column=0)\n",
    "entry_1.grid(row=0,column=1)\n",
    "label_2.grid(row=1,column=0)\n",
    "entry_2.grid(row=1,column=1)\n",
    "button_1.grid(row=2,column=0)\n",
    "button_2.grid(row=2,column=1)\n",
    "button_3.grid(row=2,column=2)\n",
    "\n",
    "#ウィンドウの表示\n",
    "root.mainloop()"
   ]
  },
  {
   "cell_type": "code",
   "execution_count": 36,
   "id": "5e41cdd6",
   "metadata": {},
   "outputs": [
    {
     "name": "stderr",
     "output_type": "stream",
     "text": [
      "/tmp/ipykernel_2707478/4098286442.py:26: DeprecationWarning: ANTIALIAS is deprecated and will be removed in Pillow 10 (2023-07-01). Use Resampling.LANCZOS instead.\n",
      "  img = img.resize((256,256),Image.ANTIALIAS)\n"
     ]
    }
   ],
   "source": []
  },
  {
   "cell_type": "code",
   "execution_count": 25,
   "id": "87c0fee2",
   "metadata": {},
   "outputs": [
    {
     "name": "stderr",
     "output_type": "stream",
     "text": [
      "/tmp/ipykernel_2707478/2407085012.py:14: DeprecationWarning: ANTIALIAS is deprecated and will be removed in Pillow 10 (2023-07-01). Use Resampling.LANCZOS instead.\n",
      "  img = img.resize((256,256),Image.ANTIALIAS)\n"
     ]
    }
   ],
   "source": [
    "import tkinter as tk\n",
    "import random\n",
    "import PIL\n",
    "from PIL import Image,ImageTk\n",
    "\n",
    "root = tk.Tk()\n",
    "root.geometry('1200x800')\n",
    "\n",
    "x = 100\n",
    "imgs = [] # Imageを保持するリストを追加\n",
    "card = [1,2,3,4,5,6,7,8,9,10,11]\n",
    "for i in range(5):\n",
    "    img = Image.open('image/' + str(i) + '.png')\n",
    "    img = img.resize((256,256),Image.ANTIALIAS)\n",
    "    img = ImageTk.PhotoImage(img)\n",
    "    imgs.append(img) # Imageをリストに追加\n",
    "    canvas = tk.Canvas(bg = \"purple\", width=256, height=256)\n",
    "#     canvas.place(x=x, y=350) \n",
    "    canvas.place(x=0, y=x)\n",
    "    canvas.create_image(3, 3, image=img, anchor=tk.NW)\n",
    "    x += 260\n",
    "\n",
    "root.mainloop()"
   ]
  },
  {
   "cell_type": "code",
   "execution_count": null,
   "id": "6476b635",
   "metadata": {},
   "outputs": [],
   "source": []
  }
 ],
 "metadata": {
  "kernelspec": {
   "display_name": "Python 3 (ipykernel)",
   "language": "python",
   "name": "python3"
  },
  "language_info": {
   "codemirror_mode": {
    "name": "ipython",
    "version": 3
   },
   "file_extension": ".py",
   "mimetype": "text/x-python",
   "name": "python",
   "nbconvert_exporter": "python",
   "pygments_lexer": "ipython3",
   "version": "3.9.13"
  }
 },
 "nbformat": 4,
 "nbformat_minor": 5
}
