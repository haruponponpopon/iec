{
 "cells": [
  {
   "cell_type": "code",
   "execution_count": 20,
   "id": "be7a718e",
   "metadata": {},
   "outputs": [
    {
     "name": "stderr",
     "output_type": "stream",
     "text": [
      "/tmp/ipykernel_2856567/2595359887.py:59: DeprecationWarning: ANTIALIAS is deprecated and will be removed in Pillow 10 (2023-07-01). Use Resampling.LANCZOS instead.\n",
      "  img = img.resize((256,256),Image.ANTIALIAS)\n",
      "/tmp/ipykernel_2856567/2595359887.py:43: DeprecationWarning: ANTIALIAS is deprecated and will be removed in Pillow 10 (2023-07-01). Use Resampling.LANCZOS instead.\n",
      "  img = img.resize((256,256),Image.ANTIALIAS)\n"
     ]
    }
   ],
   "source": [
    "##########################################################\n",
    "# tkinterの参考にしたサイト\n",
    "# https://teratail.com/questions/202187\n",
    "# buttonに関するサイト\n",
    "# https://torimakujoukyou.com/python-tkinter-for-button/\n",
    "# https://qiita.com/igor-bond16/items/39c8b75d844f30cea197\n",
    "# 画像の切り替え\n",
    "# https://joytas.net/programming/python/tkinter-img\n",
    "##########################################################\n",
    "\n",
    "#ライブラリのインポート\n",
    "import tkinter as tk\n",
    "import random\n",
    "import PIL\n",
    "from PIL import Image,ImageTk\n",
    "##############################################\n",
    "#parameter\n",
    "X = 1\n",
    "Y = 3\n",
    "image_padding = 300\n",
    "imgs = [] # Imageを保持するリストを追加\n",
    "buttons = []\n",
    "selected = []\n",
    "canvases = []\n",
    "for i in range(X*Y):\n",
    "    selected.append(0)\n",
    "epoch = 0\n",
    "##############################################\n",
    "def click_button(item,btn):\n",
    "    def nothing():\n",
    "        if selected[item]==1:\n",
    "            btn.config(bg='#E6E6E6')\n",
    "            selected[item] = 0\n",
    "        else:\n",
    "            btn.config(bg='yellow')\n",
    "            selected[item] = 1\n",
    "    return nothing\n",
    "def click_ok_button():\n",
    "    global epoch\n",
    "    epoch += 1\n",
    "    for i in range(X*Y):\n",
    "        img = Image.open('image/' + str(epoch*X*Y+i) + '.png')\n",
    "        img = img.resize((256,256),Image.ANTIALIAS)\n",
    "        img = ImageTk.PhotoImage(img)\n",
    "        imgs.append(img) # Imageをリストに追加\n",
    "        canvases[i].delete()\n",
    "        canvases[i].create_image(3, 3, image=img, anchor=tk.NW,tag=str(i))\n",
    "\n",
    "if __name__ == \"__main__\":\n",
    "    column = -1\n",
    "    row = 0\n",
    "    root = tk.Tk()\n",
    "    root.title(\"iec system\")\n",
    "    root.geometry(\"1200x900\")\n",
    "    for i in range(X):\n",
    "        for j in range(Y):\n",
    "            # 画像の設置\n",
    "            img = Image.open('image/' + str(i*Y+j) + '.png')\n",
    "            img = img.resize((256,256),Image.ANTIALIAS)\n",
    "            img = ImageTk.PhotoImage(img)\n",
    "            imgs.append(img) # Imageをリストに追加\n",
    "            canvas = tk.Canvas(bg = \"purple\", width=256, height=256)\n",
    "            canvas.place(x=j*image_padding, y=i*image_padding) \n",
    "            canvas.create_image(3, 3, image=img, anchor=tk.NW,tag=str(i*Y+j))\n",
    "            canvases.append(canvas)\n",
    "            # ボタンの設置\n",
    "            buttons.append(str(i*Y+j))\n",
    "            button = tk.Button(root, text=str(i*Y+j), width=3, height=1, bg=\"#E6E6E6\")\n",
    "            button.place(x=(j+0.35)*image_padding,y=(i+0.85)*image_padding)\n",
    "            button.config(command=click_button(i*Y+j,button))\n",
    "    button = tk.Button(root,text = \"OK\", bg=\"orange\",command=click_ok_button)\n",
    "    button.place(x=(Y/2-0.13)*image_padding,y=(X+0.2)*image_padding)\n",
    "    root.mainloop()"
   ]
  },
  {
   "cell_type": "code",
   "execution_count": 10,
   "id": "70ec4875",
   "metadata": {},
   "outputs": [
    {
     "name": "stdout",
     "output_type": "stream",
     "text": [
      "[<tkinter.Canvas object .!canvas>, <tkinter.Canvas object .!canvas2>, <tkinter.Canvas object .!canvas3>, <tkinter.Canvas object .!canvas4>, <tkinter.Canvas object .!canvas5>, <tkinter.Canvas object .!canvas6>, <tkinter.Canvas object .!canvas7>, <tkinter.Canvas object .!canvas8>, <tkinter.Canvas object .!canvas8>, <tkinter.Canvas object .!canvas8>, <tkinter.Canvas object .!canvas8>, <tkinter.Canvas object .!canvas8>, <tkinter.Canvas object .!canvas8>, <tkinter.Canvas object .!canvas8>, <tkinter.Canvas object .!canvas8>, <tkinter.Canvas object .!canvas8>]\n"
     ]
    }
   ],
   "source": [
    "print(canvases)"
   ]
  },
  {
   "cell_type": "code",
   "execution_count": null,
   "id": "0fe91d50",
   "metadata": {},
   "outputs": [],
   "source": []
  },
  {
   "cell_type": "code",
   "execution_count": 131,
   "id": "265dc434",
   "metadata": {},
   "outputs": [
    {
     "name": "stdout",
     "output_type": "stream",
     "text": [
      "[0, 0, 1, 0, 0, 1, 1, 1]\n"
     ]
    }
   ],
   "source": []
  },
  {
   "cell_type": "code",
   "execution_count": null,
   "id": "664acc38",
   "metadata": {},
   "outputs": [],
   "source": []
  },
  {
   "cell_type": "code",
   "execution_count": null,
   "id": "b30efd8d",
   "metadata": {},
   "outputs": [],
   "source": []
  }
 ],
 "metadata": {
  "kernelspec": {
   "display_name": "Python 3 (ipykernel)",
   "language": "python",
   "name": "python3"
  },
  "language_info": {
   "codemirror_mode": {
    "name": "ipython",
    "version": 3
   },
   "file_extension": ".py",
   "mimetype": "text/x-python",
   "name": "python",
   "nbconvert_exporter": "python",
   "pygments_lexer": "ipython3",
   "version": "3.9.13"
  }
 },
 "nbformat": 4,
 "nbformat_minor": 5
}
