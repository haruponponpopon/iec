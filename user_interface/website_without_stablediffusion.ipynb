{
 "cells": [
  {
   "cell_type": "code",
   "execution_count": 135,
   "id": "be7a718e",
   "metadata": {},
   "outputs": [
    {
     "name": "stderr",
     "output_type": "stream",
     "text": [
      "/tmp/ipykernel_2995391/2134637914.py:104: DeprecationWarning: ANTIALIAS is deprecated and will be removed in Pillow 10 (2023-07-01). Use Resampling.LANCZOS instead.\n",
      "  img = img.resize((256,256),Image.ANTIALIAS)\n"
     ]
    },
    {
     "name": "stdout",
     "output_type": "stream",
     "text": [
      "\n"
     ]
    },
    {
     "name": "stderr",
     "output_type": "stream",
     "text": [
      "/tmp/ipykernel_2995391/2134637914.py:65: DeprecationWarning: ANTIALIAS is deprecated and will be removed in Pillow 10 (2023-07-01). Use Resampling.LANCZOS instead.\n",
      "  img = img.resize((256,256),Image.ANTIALIAS)\n"
     ]
    }
   ],
   "source": [
    "##########################################################\n",
    "# tkinterの参考にしたサイト\n",
    "# https://teratail.com/questions/202187\n",
    "# buttonに関するサイト\n",
    "# https://torimakujoukyou.com/python-tkinter-for-button/\n",
    "# https://qiita.com/igor-bond16/items/39c8b75d844f30cea197\n",
    "# 画像の切り替え\n",
    "# https://joytas.net/programming/python/tkinter-img\n",
    "##########################################################\n",
    "\n",
    "#ライブラリのインポート\n",
    "import tkinter as tk\n",
    "from tkinter import ttk\n",
    "import random\n",
    "import PIL\n",
    "from PIL import Image,ImageTk\n",
    "##############################################\n",
    "#parameter\n",
    "X = 3\n",
    "Y = 3\n",
    "image_padding = 300\n",
    "imgs = [] # Imageを保持するリストを追加\n",
    "buttons = []\n",
    "selected = []\n",
    "canvases = []\n",
    "text_boxes = []\n",
    "for i in range(X*Y):\n",
    "    selected.append(0)\n",
    "epoch = 0\n",
    "##############################################\n",
    "def click_button(item,btn):\n",
    "    def nothing():\n",
    "        if selected[item]==1:\n",
    "            btn.config(bg='#E6E6E6')\n",
    "            selected[item] = 0\n",
    "        else:\n",
    "            btn.config(bg='yellow')\n",
    "            selected[item] = 1\n",
    "    return nothing\n",
    "def click_ok_button():\n",
    "    global epoch\n",
    "    epoch += 1\n",
    "    for i in range(X*Y):\n",
    "        img = Image.open('image/' + str(epoch*X*Y+i) + '.png')\n",
    "        img = img.resize((256,256),Image.ANTIALIAS)\n",
    "        img = ImageTk.PhotoImage(img)\n",
    "        imgs.append(img) # Imageをリストに追加\n",
    "        canvases[i].delete()\n",
    "        canvases[i].create_image(3, 3, image=img, anchor=tk.NW,tag=str(i))\n",
    "def display_iec_choosing_screen():\n",
    "    input_prompt = text_boxes[0].get(1.0, tk.END+\"-1c\")#freame_destroyの前に取得する必要がある\n",
    "    print(input_prompt)\n",
    "    global frame_app\n",
    "\n",
    "    frame.destroy()\n",
    "\n",
    "    # メインフレームの作成と設置\n",
    "    frame_app = ttk.Frame(root)\n",
    "    frame_app.pack(fill = tk.BOTH, pady=20)\n",
    "\n",
    "    for i in range(X):\n",
    "        for j in range(Y):\n",
    "            # 画像の設置\n",
    "            img = Image.open('image/' + str(i*Y+j) + '.png')\n",
    "            img = img.resize((256,256),Image.ANTIALIAS)\n",
    "            img = ImageTk.PhotoImage(img)\n",
    "            imgs.append(img) # Imageをリストに追加\n",
    "            canvas = tk.Canvas(bg = \"purple\", width=256, height=256)\n",
    "            canvas.place(x=(j+2)*image_padding, y=i*image_padding) \n",
    "            canvas.create_image(3, 3, image=img, anchor=tk.NW,tag=str(i*Y+j))\n",
    "            canvases.append(canvas)\n",
    "            # ボタンの設置\n",
    "            buttons.append(str(i*Y+j))\n",
    "            button = tk.Button(root, text=str(i*Y+j), width=3, height=1, bg=\"#E6E6E6\")\n",
    "            button.place(x=(j+2.35)*image_padding,y=(i+0.85)*image_padding)\n",
    "            button.config(command=click_button(i*Y+j,button))\n",
    "    \n",
    "    evolution_label = tk.Label(text=\"elite1\\nelite2\", background='white', foreground='black',font=(\"Lucida Console\",\"15\"))\n",
    "    evolution_label.place(x=150, y=400)\n",
    "    button = tk.Button(root,text = \"OK\", bg=\"orange\",command=click_ok_button)\n",
    "    button.place(x=250,y=(X-0.35)*image_padding)\n",
    "if __name__ == \"__main__\":\n",
    "    root = tk.Tk()\n",
    "    root.title(\"iec system\")\n",
    "    root.geometry(\"1500x900\")\n",
    "    #web切り替え\n",
    "    # メインフレームの作成と設置\n",
    "    frame = tk.Frame(root, bg=\"red\",width=400,height=256)\n",
    "    frame.place(x=650,y=100)\n",
    "#     frame.pack(expand=\"YES\")\n",
    "#     frame.pack(fill = tk.BOTH, pady=300)\n",
    "\n",
    "    # promptの入力画面に作成\n",
    "    label1_frame = ttk.Label(frame, text=\"input the description of this image\")\n",
    "    label1_frame.pack(padx=5, pady=10, fill=tk.X)\n",
    "    text_box1_frame = tk.Text(frame, height=10)\n",
    "    text_box1_frame.pack(padx=5, pady=20, fill=tk.X)\n",
    "    button_change = ttk.Button(frame, text=\"generate images\", command=display_iec_choosing_screen)\n",
    "    button_change.pack(padx=5, pady=10, fill=tk.X)\n",
    "    text_boxes.append(text_box1_frame)\n",
    "    frame.propagate(False) #frameのサイズを固定するおまじない\n",
    "    # 画像の設置\n",
    "    img = Image.open('image/21.png')\n",
    "    img = img.resize((256,256),Image.ANTIALIAS)\n",
    "    img = ImageTk.PhotoImage(img)\n",
    "    imgs.append(img) # Imageをリストに追加\n",
    "    canvas = tk.Canvas(bg = \"purple\", width=256, height=256)\n",
    "    canvas.place(x=150, y=100) \n",
    "    canvas.create_image(3, 3, image=img, anchor=tk.NW,tag=str(i*Y+j))\n",
    "    target_label = tk.Label(text=\"target image\", background='orange', foreground='white',font=(\"Lucida Console\",\"15\"))\n",
    "    target_label.place(x=150, y=70)\n",
    "    # 各種ウィジェットの設置\n",
    "#     label1_frame.pack()\n",
    "#     entry1_frame.pack()\n",
    "#     button_change.pack()\n",
    "    \n",
    "    root.mainloop()"
   ]
  },
  {
   "cell_type": "code",
   "execution_count": 114,
   "id": "70ec4875",
   "metadata": {},
   "outputs": [],
   "source": []
  },
  {
   "cell_type": "code",
   "execution_count": null,
   "id": "0fe91d50",
   "metadata": {},
   "outputs": [],
   "source": []
  },
  {
   "cell_type": "code",
   "execution_count": 131,
   "id": "265dc434",
   "metadata": {},
   "outputs": [
    {
     "name": "stdout",
     "output_type": "stream",
     "text": [
      "[0, 0, 1, 0, 0, 1, 1, 1]\n"
     ]
    }
   ],
   "source": []
  },
  {
   "cell_type": "code",
   "execution_count": null,
   "id": "664acc38",
   "metadata": {},
   "outputs": [],
   "source": []
  },
  {
   "cell_type": "code",
   "execution_count": null,
   "id": "b30efd8d",
   "metadata": {},
   "outputs": [],
   "source": []
  }
 ],
 "metadata": {
  "kernelspec": {
   "display_name": "Python 3 (ipykernel)",
   "language": "python",
   "name": "python3"
  },
  "language_info": {
   "codemirror_mode": {
    "name": "ipython",
    "version": 3
   },
   "file_extension": ".py",
   "mimetype": "text/x-python",
   "name": "python",
   "nbconvert_exporter": "python",
   "pygments_lexer": "ipython3",
   "version": "3.9.13"
  }
 },
 "nbformat": 4,
 "nbformat_minor": 5
}
