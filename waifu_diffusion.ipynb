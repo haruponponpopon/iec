{
 "cells": [
  {
   "cell_type": "code",
   "execution_count": 4,
   "id": "451bd61b",
   "metadata": {},
   "outputs": [
    {
     "data": {
      "text/plain": [
       "True"
      ]
     },
     "execution_count": 4,
     "metadata": {},
     "output_type": "execute_result"
    }
   ],
   "source": [
    "# StableDiffusionパイプラインの準備\n",
    "# 実行必須\n",
    "# 一つまたは２つ下の行を実行\n",
    "import torch\n",
    "from diffusers import StableDiffusionPipeline, DDIMScheduler\n",
    "from torch import autocast\n",
    "pipe = StableDiffusionPipeline.from_pretrained(\n",
    "    \"hakurei/waifu-diffusion\",\n",
    "    torch_dtype=torch.float16,\n",
    "    revision=\"fp16\",\n",
    "    scheduler=DDIMScheduler(\n",
    "        beta_start=0.00085,\n",
    "        beta_end=0.012,\n",
    "        beta_schedule=\"scaled_linear\",\n",
    "        clip_sample=False,\n",
    "        set_alpha_to_one=False,\n",
    "    ),\n",
    "#     use_auth_token=True\n",
    ").to(\"cuda\")\n"
   ]
  },
  {
   "cell_type": "code",
   "execution_count": 5,
   "id": "041a4c76",
   "metadata": {},
   "outputs": [],
   "source": [
    "# 画像を一枚生成\n",
    "prompt = \"1girl, aqua eyes, baseball cap, blonde hair, closed mouth, earrings, green background, hat, hoop earrings, jewelry, looking at viewer, shirt, short hair, simple background, solo, upper body, yellow shirt\"\n",
    "with autocast(\"cuda\"):\n",
    "    image = pipe(prompt,width=512, height=512)[\"sample\"][0]  \n",
    "    \n",
    "image.save(\"waifu-diffusion/sample.png\")\n",
    "\n",
    "print(\"DONE\")"
   ]
  },
  {
   "cell_type": "code",
   "execution_count": null,
   "id": "3608f7aa",
   "metadata": {},
   "outputs": [],
   "source": [
    "# 画像を複数枚生成\n",
    "text = \"1girl, light blue eyes, blonde hair, open mouth, yellow earrings, white background, black T-shirt, brown skirt, short hair, solo\"\n",
    "num = 10\n",
    "for i in range(num):\n",
    "    with autocast(\"cuda\"):image = pipe(text)[\"sample\"][0]\n",
    "    image.save(\"waifu-diffusion/{}_{}.png\".format(\"sample\",i))"
   ]
  },
  {
   "cell_type": "code",
   "execution_count": null,
   "id": "debb4cc4",
   "metadata": {},
   "outputs": [],
   "source": []
  },
  {
   "cell_type": "code",
   "execution_count": null,
   "id": "729c7f41",
   "metadata": {},
   "outputs": [],
   "source": []
  },
  {
   "cell_type": "code",
   "execution_count": null,
   "id": "c9c7e2fd",
   "metadata": {},
   "outputs": [],
   "source": []
  },
  {
   "cell_type": "code",
   "execution_count": null,
   "id": "6750cd48",
   "metadata": {},
   "outputs": [],
   "source": []
  },
  {
   "cell_type": "code",
   "execution_count": null,
   "id": "883a8dee",
   "metadata": {},
   "outputs": [],
   "source": []
  }
 ],
 "metadata": {
  "kernelspec": {
   "display_name": "Python 3 (ipykernel)",
   "language": "python",
   "name": "python3"
  },
  "language_info": {
   "codemirror_mode": {
    "name": "ipython",
    "version": 3
   },
   "file_extension": ".py",
   "mimetype": "text/x-python",
   "name": "python",
   "nbconvert_exporter": "python",
   "pygments_lexer": "ipython3",
   "version": "3.9.13"
  }
 },
 "nbformat": 4,
 "nbformat_minor": 5
}
