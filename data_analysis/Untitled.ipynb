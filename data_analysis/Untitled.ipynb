{
 "cells": [
  {
   "cell_type": "code",
   "execution_count": 6,
   "id": "2bb118b5",
   "metadata": {},
   "outputs": [],
   "source": [
    "def extract_num(data):\n",
    "    ans = 0\n",
    "    is_decimal = False\n",
    "    divide = 0.1\n",
    "    for d in data:\n",
    "        if is_decimal:\n",
    "            divide *= 10\n",
    "        if '0'<=d and d<='9':\n",
    "            ans = ans*10+int(d)\n",
    "        elif d=='.':\n",
    "            is_decimal=True\n",
    "        else:\n",
    "            return ans/divide\n",
    "            "
   ]
  },
  {
   "cell_type": "code",
   "execution_count": 19,
   "id": "9437dd1b",
   "metadata": {},
   "outputs": [],
   "source": [
    "def calc_think_time_mean(time_ar):\n",
    "    think_time = 0\n",
    "    epoch = 0\n",
    "    for i in range(len(time_ar)):\n",
    "        if i%2==1:\n",
    "            epoch+=1\n",
    "            think_time += time_ar[i+1]-time_ar[i]\n",
    "    return think_time/epoch"
   ]
  },
  {
   "cell_type": "code",
   "execution_count": 24,
   "id": "ab51c5c3",
   "metadata": {},
   "outputs": [],
   "source": [
    "def read_file_and_return_time(file_name):\n",
    "    f = open(file_name, 'r')\n",
    "    iec_time = []\n",
    "    datalist = f.readlines()\n",
    "    for data in datalist:\n",
    "        iec_time.append(extract_num(data))\n",
    "    f.close()\n",
    "    return calc_think_time_mean(iec_time)"
   ]
  },
  {
   "cell_type": "code",
   "execution_count": 26,
   "id": "b046e20b",
   "metadata": {},
   "outputs": [
    {
     "name": "stdout",
     "output_type": "stream",
     "text": [
      "30.096645164489747\n",
      "57.69605278968811\n"
     ]
    }
   ],
   "source": [
    "print(read_file_and_return_time('iec/17.txt'))\n",
    "print(read_file_and_return_time('conv/17.txt'))"
   ]
  },
  {
   "cell_type": "code",
   "execution_count": 27,
   "id": "aa52410a",
   "metadata": {},
   "outputs": [
    {
     "name": "stdout",
     "output_type": "stream",
     "text": [
      "31.934725761413574\n",
      "87.70961822403802\n"
     ]
    }
   ],
   "source": [
    "print(read_file_and_return_time('iec/35.txt'))\n",
    "print(read_file_and_return_time('conv/35.txt'))"
   ]
  },
  {
   "cell_type": "code",
   "execution_count": 29,
   "id": "b28662cc",
   "metadata": {},
   "outputs": [
    {
     "name": "stdout",
     "output_type": "stream",
     "text": [
      "57.35700244903565\n",
      "40.13322071234385\n"
     ]
    }
   ],
   "source": [
    "print(read_file_and_return_time('iec/15.txt'))\n",
    "print(read_file_and_return_time('conv/15.txt'))"
   ]
  },
  {
   "cell_type": "code",
   "execution_count": null,
   "id": "79c88fa5",
   "metadata": {},
   "outputs": [],
   "source": []
  }
 ],
 "metadata": {
  "kernelspec": {
   "display_name": "Python 3 (ipykernel)",
   "language": "python",
   "name": "python3"
  },
  "language_info": {
   "codemirror_mode": {
    "name": "ipython",
    "version": 3
   },
   "file_extension": ".py",
   "mimetype": "text/x-python",
   "name": "python",
   "nbconvert_exporter": "python",
   "pygments_lexer": "ipython3",
   "version": "3.9.13"
  }
 },
 "nbformat": 4,
 "nbformat_minor": 5
}
